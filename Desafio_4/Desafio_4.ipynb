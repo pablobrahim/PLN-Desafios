{
 "cells": [
  {
   "cell_type": "markdown",
   "metadata": {
    "id": "pfa39F4lsLf3"
   },
   "source": [
    "<img src=\"https://github.com/hernancontigiani/ceia_memorias_especializacion/raw/master/Figures/logoFIUBA.jpg\" width=\"500\" align=\"center\">\n",
    "\n",
    "\n",
    "# Procesamiento de lenguaje natural\n",
    "## LSTM Traductor\n",
    "Ejemplo basado en [LINK](https://stackabuse.com/python-for-nlp-neural-machine-translation-with-seq2seq-in-keras/)"
   ]
  },
  {
   "cell_type": "code",
   "execution_count": 1,
   "metadata": {
    "id": "FGmtK8J19PNk"
   },
   "outputs": [],
   "source": [
    "!pip install --upgrade --no-cache-dir gdown --quiet"
   ]
  },
  {
   "cell_type": "code",
   "execution_count": 2,
   "metadata": {
    "id": "cq3YXak9sGHd"
   },
   "outputs": [],
   "source": [
    "import re\n",
    "import numpy as np\n",
    "import pandas as pd\n",
    "import matplotlib.pyplot as plt\n",
    "import seaborn as sns\n",
    "import sys\n",
    "import torch\n",
    "import torch.nn.functional as F\n",
    "import torch.nn as nn\n",
    "from torch.utils.data import Dataset, DataLoader"
   ]
  },
  {
   "cell_type": "code",
   "execution_count": 4,
   "metadata": {
    "colab": {
     "base_uri": "https://localhost:8080/"
    },
    "id": "vgYatMIdk_eT",
    "outputId": "9a2a7c2b-bf07-4763-b7d1-081906404c35"
   },
   "outputs": [
    {
     "data": {
      "text/plain": [
       "device(type='cpu')"
      ]
     },
     "execution_count": 4,
     "metadata": {},
     "output_type": "execute_result"
    }
   ],
   "source": [
    "cuda = torch.cuda.is_available()\n",
    "device = torch.device('cuda' if torch.cuda.is_available() else 'cpu')\n",
    "device"
   ]
  },
  {
   "cell_type": "code",
   "execution_count": 5,
   "metadata": {
    "colab": {
     "base_uri": "https://localhost:8080/"
    },
    "id": "OYpIWGaXxfKe",
    "outputId": "aa70d148-97bf-43fe-c352-916e69ff021d"
   },
   "outputs": [
    {
     "name": "stdout",
     "output_type": "stream",
     "text": [
      "Requirement already satisfied: torchinfo in c:\\users\\pbrahim\\appdata\\local\\anaconda3\\lib\\site-packages (1.8.0)\n"
     ]
    }
   ],
   "source": [
    "!pip3 install torchinfo\n",
    "from torchinfo import summary"
   ]
  },
  {
   "cell_type": "code",
   "execution_count": 6,
   "metadata": {
    "id": "GHFPS5KNxgR9"
   },
   "outputs": [],
   "source": [
    "import os\n",
    "import platform\n",
    "\n",
    "if os.access('torch_helpers.py', os.F_OK) is False:\n",
    "    if platform.system() == 'Windows':\n",
    "        !curl !wget https://raw.githubusercontent.com/FIUBA-Posgrado-Inteligencia-Artificial/procesamiento_lenguaje_natural/main/scripts/torch_helpers.py > torch_helpers.py\n",
    "    else:\n",
    "        !wget torch_helpers.py https://raw.githubusercontent.com/FIUBA-Posgrado-Inteligencia-Artificial/procesamiento_lenguaje_natural/main/scripts/torch_helpers.py"
   ]
  },
  {
   "cell_type": "markdown",
   "metadata": {
    "id": "UFLCmUlNhGU3"
   },
   "source": [
    "Esta celda entrena el modelo de traducción automática mediante un ciclo que procesa los datos por épocas. En cada iteración, el modelo aprende de los datos de entrenamiento y se valida con ejemplos no vistos.\n",
    "\n",
    "El proceso calcula dos métricas principales: la pérdida (loss) que indica el error del modelo, y la precisión (accuracy) que mide el porcentaje de palabras traducidas correctamente.\n",
    "\n",
    "Los resultados se almacenan para analizar la evolución del aprendizaje y el rendimiento final del modelo traductor."
   ]
  },
  {
   "cell_type": "code",
   "execution_count": 7,
   "metadata": {
    "id": "tP-fbmHUgbtp"
   },
   "outputs": [],
   "source": [
    "def sequence_acc(output, target):\n",
    "    predictions = output.argmax(dim=-1)\n",
    "\n",
    "    correct = (predictions == target).float()\n",
    "\n",
    "\n",
    "    accuracy = correct.mean()\n",
    "    return accuracy\n",
    "\n",
    "def train(model, train_loader, valid_loader, optimizer, criterion, epochs=100):\n",
    "    # Defino listas para realizar graficas de los resultados\n",
    "    train_loss = []\n",
    "    train_accuracy = []\n",
    "    valid_loss = []\n",
    "    valid_accuracy = []\n",
    "\n",
    "    for epoch in range(epochs):\n",
    "        model.train()\n",
    "        epoch_train_loss = 0.0\n",
    "        epoch_train_accuracy = 0.0\n",
    "\n",
    "        for train_encoder_input, train_decoder_input, train_target in train_loader:\n",
    "\n",
    "            train_encoder_input = train_encoder_input.to(device)\n",
    "            train_decoder_input = train_decoder_input.to(device)\n",
    "            train_target = train_target.to(device)\n",
    "\n",
    "            # Seteo los gradientes en cero\n",
    "            optimizer.zero_grad()\n",
    "\n",
    "            # Forward pass\n",
    "            output = model(train_encoder_input, train_decoder_input)\n",
    "\n",
    "            loss = criterion(output.reshape(-1, output.shape[-1]),\n",
    "                           train_target.reshape(-1))\n",
    "\n",
    "            # Almaceno el error del batch\n",
    "            epoch_train_loss += loss.item()\n",
    "\n",
    "            loss.backward()\n",
    "            optimizer.step()\n",
    "\n",
    "            # Calculo el accuracy del batch\n",
    "            accuracy = sequence_acc(output, train_target)\n",
    "            epoch_train_accuracy += accuracy.item()\n",
    "\n",
    "        epoch_train_loss = epoch_train_loss / len(train_loader)\n",
    "        train_loss.append(epoch_train_loss)\n",
    "        epoch_train_accuracy = epoch_train_accuracy / len(train_loader)\n",
    "        train_accuracy.append(epoch_train_accuracy)\n",
    "\n",
    "        model.eval()\n",
    "        with torch.no_grad():\n",
    "            valid_encoder_input, valid_decoder_input, valid_target = next(iter(valid_loader))\n",
    "            valid_encoder_input = valid_encoder_input.to(device)\n",
    "            valid_decoder_input = valid_decoder_input.to(device)\n",
    "            valid_target = valid_target.to(device)\n",
    "\n",
    "            output = model(valid_encoder_input, valid_decoder_input)\n",
    "\n",
    "            epoch_valid_loss = criterion(output.reshape(-1, output.shape[-1]),\n",
    "                                       valid_target.reshape(-1))\n",
    "            epoch_valid_loss = epoch_valid_loss.item()\n",
    "            valid_loss.append(epoch_valid_loss)\n",
    "\n",
    "            epoch_valid_accuracy = sequence_acc(output, valid_target).item()\n",
    "            valid_accuracy.append(epoch_valid_accuracy)\n",
    "\n",
    "        print(f\"Epoch: {epoch+1}/{epochs} - Train loss {epoch_train_loss:.3f} - Train accuracy {epoch_train_accuracy:.3f} - Valid Loss {epoch_valid_loss:.3f} - Valid accuracy {epoch_valid_accuracy:.3f}\")\n",
    "\n",
    "    history = {\n",
    "        \"loss\": train_loss,\n",
    "        \"accuracy\": train_accuracy,\n",
    "        \"val_loss\": valid_loss,\n",
    "        \"val_accuracy\": valid_accuracy,\n",
    "    }\n",
    "    return history"
   ]
  },
  {
   "cell_type": "markdown",
   "metadata": {
    "id": "5BFiCH8nxoIY"
   },
   "source": [
    "### 1 - Datos"
   ]
  },
  {
   "cell_type": "code",
   "execution_count": 8,
   "metadata": {
    "colab": {
     "base_uri": "https://localhost:8080/"
    },
    "id": "RHNkUaPp6aYq",
    "outputId": "edd3e76d-233a-4c71-d03a-0f78bbcbb31f"
   },
   "outputs": [
    {
     "name": "stdout",
     "output_type": "stream",
     "text": [
      "El dataset ya se encuentra descargado\n"
     ]
    }
   ],
   "source": [
    "import os\n",
    "import gdown\n",
    "import zipfile\n",
    "\n",
    "# Verificar si la carpeta ya existe\n",
    "if not os.path.exists('spa-eng'):\n",
    "    # Descargar zip si no existe\n",
    "    if not os.path.exists('spa-eng.zip'):\n",
    "        url = 'http://storage.googleapis.com/download.tensorflow.org/data/spa-eng.zip'\n",
    "        output = 'spa-eng.zip'\n",
    "        gdown.download(url, output, quiet=False)\n",
    "    \n",
    "    # Descomprimir con Python\n",
    "    with zipfile.ZipFile('spa-eng.zip', 'r') as zip_ref:\n",
    "        zip_ref.extractall('.')\n",
    "    print(\"Dataset descomprimido correctamente.\")\n",
    "else:\n",
    "    print(\"El dataset ya se encuentra descargado\")"
   ]
  },
  {
   "cell_type": "code",
   "execution_count": 9,
   "metadata": {
    "colab": {
     "base_uri": "https://localhost:8080/"
    },
    "id": "-9aNLZBDtA5J",
    "outputId": "0d4edd00-3f3e-4ff2-c652-a7b3978d9a4e"
   },
   "outputs": [
    {
     "name": "stdout",
     "output_type": "stream",
     "text": [
      "Cantidad de rows disponibles: 118964\n",
      "Cantidad de rows utilizadas: 29741\n"
     ]
    }
   ],
   "source": [
    "# dataset_file\n",
    "\n",
    "text_file = \"./spa-eng/spa.txt\"\n",
    "with open(text_file, encoding=\"utf-8\") as f:\n",
    "    lines = f.read().split(\"\\n\")[:-1]\n",
    "\n",
    "# Por limitaciones de RAM no se leen todas las filas\n",
    "MAX_NUM_SENTENCES = len(lines)/4\n",
    "#MAX_NUM_SENTENCES = 10000\n",
    "\n",
    "# Mezclar el dataset, forzar semilla siempre igual\n",
    "np.random.seed([40])\n",
    "np.random.shuffle(lines)\n",
    "\n",
    "input_sentences = []\n",
    "output_sentences = []\n",
    "output_sentences_inputs = []\n",
    "count = 0\n",
    "\n",
    "for line in lines:\n",
    "    count += 1\n",
    "    if count > MAX_NUM_SENTENCES:\n",
    "        break\n",
    "\n",
    "    if '\\t' not in line:\n",
    "        continue\n",
    "\n",
    "    # Input sentence --> eng\n",
    "    # output --> spa\n",
    "    input_sentence, output = line.rstrip().split('\\t')\n",
    "\n",
    "    # output sentence (decoder_output) tiene <eos>\n",
    "    output_sentence = output + ' <eos>'\n",
    "    # output sentence input (decoder_input) tiene <sos>\n",
    "    output_sentence_input = '<sos> ' + output\n",
    "\n",
    "    input_sentences.append(input_sentence)\n",
    "    output_sentences.append(output_sentence)\n",
    "    output_sentences_inputs.append(output_sentence_input)\n",
    "\n",
    "print(\"Cantidad de rows disponibles:\", len(lines))\n",
    "print(\"Cantidad de rows utilizadas:\", len(input_sentences))"
   ]
  },
  {
   "cell_type": "code",
   "execution_count": 10,
   "metadata": {
    "colab": {
     "base_uri": "https://localhost:8080/"
    },
    "id": "93IGMKFb73q7",
    "outputId": "25ba9259-5879-4131-ec9d-447b26e593e4"
   },
   "outputs": [
    {
     "data": {
      "text/plain": [
       "('A deal is a deal.',\n",
       " 'Un trato es un trato. <eos>',\n",
       " '<sos> Un trato es un trato.')"
      ]
     },
     "execution_count": 10,
     "metadata": {},
     "output_type": "execute_result"
    }
   ],
   "source": [
    "input_sentences[0], output_sentences[0], output_sentences_inputs[0]"
   ]
  },
  {
   "cell_type": "markdown",
   "metadata": {
    "id": "8P-ynUNP5xp6"
   },
   "source": [
    "### 2 - Preprocesamiento"
   ]
  },
  {
   "cell_type": "code",
   "execution_count": 11,
   "metadata": {
    "id": "5WAZGOTfGyha"
   },
   "outputs": [],
   "source": [
    "# Definir el tamaño máximo del vocabulario\n",
    "MAX_VOCAB_SIZE = 100000"
   ]
  },
  {
   "cell_type": "code",
   "execution_count": 12,
   "metadata": {
    "colab": {
     "base_uri": "https://localhost:8080/"
    },
    "id": "eF1W6peoFGXA",
    "outputId": "80fc3828-e357-4e27-f4df-563eba10d423"
   },
   "outputs": [
    {
     "name": "stdout",
     "output_type": "stream",
     "text": [
      "Palabras en el vocabulario: 8085\n",
      "Sentencia de entrada más larga: 32\n"
     ]
    }
   ],
   "source": [
    "# Tokenizar las palabras con el Tokenizer de Keras\n",
    "# Definir una máxima cantidad de palabras a utilizar:\n",
    "# - num_words --> the maximum number of words to keep, based on word frequency.\n",
    "# - Only the most common num_words-1 words will be kept.\n",
    "from torch_helpers import Tokenizer\n",
    "input_tokenizer = Tokenizer(num_words=MAX_VOCAB_SIZE)\n",
    "input_tokenizer.fit_on_texts(input_sentences)\n",
    "input_integer_seq = input_tokenizer.texts_to_sequences(input_sentences)\n",
    "\n",
    "word2idx_inputs = input_tokenizer.word_index\n",
    "print(\"Palabras en el vocabulario:\", len(word2idx_inputs))\n",
    "\n",
    "max_input_len = max(len(sen) for sen in input_integer_seq)\n",
    "print(\"Sentencia de entrada más larga:\", max_input_len)"
   ]
  },
  {
   "cell_type": "code",
   "execution_count": 13,
   "metadata": {
    "colab": {
     "base_uri": "https://localhost:8080/"
    },
    "id": "zBzdKiTVIBYY",
    "outputId": "2a9bcd5e-a7b1-46f0-b758-d40dc43b7820"
   },
   "outputs": [
    {
     "name": "stdout",
     "output_type": "stream",
     "text": [
      "Palabras en el vocabulario: 13917\n",
      "Sentencia de salida más larga: 36\n"
     ]
    }
   ],
   "source": [
    "# tokenizador de español\n",
    "# A los filtros de símbolos del Tokenizer agregamos el \"¿\",\n",
    "# sacamos los \"<>\" para que no afectar nuestros tokens\n",
    "output_tokenizer = Tokenizer(num_words=MAX_VOCAB_SIZE, filters='!\"#$%&()*+,-./:;=¿?@[\\\\]^_`{|}~\\t\\n')\n",
    "output_tokenizer.fit_on_texts([\"<sos>\", \"<eos>\"] + output_sentences)\n",
    "output_integer_seq = output_tokenizer.texts_to_sequences(output_sentences)\n",
    "output_input_integer_seq = output_tokenizer.texts_to_sequences(output_sentences_inputs)\n",
    "\n",
    "word2idx_outputs = output_tokenizer.word_index\n",
    "print(\"Palabras en el vocabulario:\", len(word2idx_outputs))\n",
    "\n",
    "num_words_output = min(len(word2idx_outputs) + 1, MAX_VOCAB_SIZE) # Se suma 1 por el primer <sos>\n",
    "max_out_len = max(len(sen) for sen in output_integer_seq)\n",
    "print(\"Sentencia de salida más larga:\", max_out_len)"
   ]
  },
  {
   "cell_type": "code",
   "execution_count": 14,
   "metadata": {
    "colab": {
     "base_uri": "https://localhost:8080/"
    },
    "id": "dOpu9HKbr8Fb",
    "outputId": "383c2ef0-6575-444a-80ef-d902764c4eec"
   },
   "outputs": [
    {
     "name": "stdout",
     "output_type": "stream",
     "text": [
      "13917\n"
     ]
    },
    {
     "data": {
      "text/plain": [
       "13918"
      ]
     },
     "execution_count": 14,
     "metadata": {},
     "output_type": "execute_result"
    }
   ],
   "source": [
    "print(len(word2idx_outputs))\n",
    "num_words_output"
   ]
  },
  {
   "cell_type": "code",
   "execution_count": 15,
   "metadata": {
    "id": "pgLC706EQx3p"
   },
   "outputs": [],
   "source": [
    "max_input_len = 50\n",
    "max_out_len = 50"
   ]
  },
  {
   "cell_type": "markdown",
   "metadata": {
    "id": "hGOn9N57IuYz"
   },
   "source": [
    "A la hora de realiza padding es importante teneer en cuenta que en el encoder los ceros se agregan al comienoz y en el decoder al final. Esto es porque la salida del encoder está basado en las últimas palabras de la sentencia (son las más importantes), mientras que en el decoder está basado en el comienzo de la secuencia de salida ya que es la realimentación del sistema y termina con fin de sentencia."
   ]
  },
  {
   "cell_type": "code",
   "execution_count": 16,
   "metadata": {
    "colab": {
     "base_uri": "https://localhost:8080/"
    },
    "id": "q0Ob4hAWJkcv",
    "outputId": "44ae5f42-4e12-46f1-faff-4afa97085593"
   },
   "outputs": [
    {
     "name": "stdout",
     "output_type": "stream",
     "text": [
      "1.26.4\n",
      "Cantidad de rows del dataset: 29741\n",
      "encoder_input_sequences shape: (29741, 50)\n",
      "decoder_input_sequences shape: (29741, 50)\n"
     ]
    }
   ],
   "source": [
    "from torch_helpers import pad_sequences\n",
    "np.unicode_ = np.str_\n",
    "\n",
    "print(np.version.full_version)\n",
    "print(\"Cantidad de rows del dataset:\", len(input_integer_seq))\n",
    "\n",
    "encoder_input_sequences = pad_sequences(input_integer_seq, maxlen=max_input_len)\n",
    "print(\"encoder_input_sequences shape:\", encoder_input_sequences.shape)\n",
    "\n",
    "decoder_input_sequences = pad_sequences(output_input_integer_seq, maxlen=max_out_len, padding='post')\n",
    "print(\"decoder_input_sequences shape:\", decoder_input_sequences.shape)"
   ]
  },
  {
   "cell_type": "code",
   "execution_count": 17,
   "metadata": {
    "colab": {
     "base_uri": "https://localhost:8080/"
    },
    "id": "3VySR1pzx9UG",
    "outputId": "86d332af-ca3b-4299-f1c8-675a0c5eac58"
   },
   "outputs": [
    {
     "name": "stdout",
     "output_type": "stream",
     "text": [
      "decoder_output_sequences shape: (29741, 50)\n"
     ]
    }
   ],
   "source": [
    "decoder_output_sequences = pad_sequences(output_integer_seq, maxlen=max_out_len, padding='post')\n",
    "print(\"decoder_output_sequences shape:\", decoder_output_sequences.shape)"
   ]
  },
  {
   "cell_type": "markdown",
   "metadata": {
    "id": "fQBVqaTyhqKX"
   },
   "source": [
    "Esta celda organiza los datos para el entrenamiento del modelo traductor. Convierte las secuencias de texto en tensores numéricos que PyTorch puede procesar eficientemente.\n",
    "\n",
    "La clase SequenceDataset estructura tres componentes esenciales: las secuencias de entrada para el codificador, las secuencias de entrada para el decodificador y las secuencias objetivo que el modelo debe aprender a predecir.\n",
    "\n",
    "Cada muestra del dataset contiene un trio de tensores listos para ser utilizados durante el entrenamiento del modelo de traducción automática."
   ]
  },
  {
   "cell_type": "code",
   "execution_count": 18,
   "metadata": {
    "id": "SD0bpM32yWfB"
   },
   "outputs": [],
   "source": [
    "class SequenceDataset(Dataset):\n",
    "    def __init__(self, enc_input, dec_input, dec_output):\n",
    "        self.enc_tensors = torch.from_numpy(enc_input.astype(np.int32))\n",
    "        self.dec_in_tensors = torch.from_numpy(dec_input.astype(np.int32))\n",
    "        self.dec_out_tensors = torch.from_numpy(dec_output.astype(np.int64))\n",
    "        self.n_samples = self.dec_out_tensors.shape[0]\n",
    "\n",
    "    def __getitem__(self, idx):\n",
    "        return self.enc_tensors[idx], self.dec_in_tensors[idx], self.dec_out_tensors[idx]\n",
    "\n",
    "    def __len__(self):\n",
    "        return self.n_samples\n",
    "\n",
    "data_set = SequenceDataset(encoder_input_sequences, decoder_input_sequences, decoder_output_sequences)"
   ]
  },
  {
   "cell_type": "markdown",
   "metadata": {
    "id": "_eH2dTBIhxnP"
   },
   "source": [
    " División de Datos para Entrenamiento"
   ]
  },
  {
   "cell_type": "code",
   "execution_count": 19,
   "metadata": {
    "colab": {
     "base_uri": "https://localhost:8080/"
    },
    "id": "sUDPZeuAU1RI",
    "outputId": "431fa2d5-c132-40bf-d2c1-3bc811f734de"
   },
   "outputs": [
    {
     "name": "stdout",
     "output_type": "stream",
     "text": [
      "Muestras de entrenamiento: 23793\n",
      "Muestras de validación: 5948\n"
     ]
    }
   ],
   "source": [
    "torch.manual_seed(42)\n",
    "val_size = int(len(data_set) * 0.2)\n",
    "tr_size = len(data_set) - val_size\n",
    "\n",
    "training_data = torch.utils.data.Subset(data_set, range(tr_size))\n",
    "validation_data = torch.utils.data.Subset(data_set, range(tr_size, len(data_set)))\n",
    "\n",
    "print(\"Muestras de entrenamiento:\", len(training_data))\n",
    "print(\"Muestras de validación:\", len(validation_data))\n",
    "\n",
    "train_dl = torch.utils.data.DataLoader(training_data, batch_size=16, shuffle=True)\n",
    "val_dl = torch.utils.data.DataLoader(validation_data, batch_size=16, shuffle=False)"
   ]
  },
  {
   "cell_type": "markdown",
   "metadata": {
    "id": "_CJIsLBbj6rg"
   },
   "source": [
    "### 3 - Preparar los embeddings"
   ]
  },
  {
   "cell_type": "code",
   "execution_count": 20,
   "metadata": {
    "colab": {
     "base_uri": "https://localhost:8080/"
    },
    "id": "9OcT-DLzkHS8",
    "outputId": "632d9579-1378-43a4-fea8-8979621261bb"
   },
   "outputs": [
    {
     "name": "stdout",
     "output_type": "stream",
     "text": [
      "Los embeddings gloveembedding.pkl ya están descargados\n"
     ]
    }
   ],
   "source": [
    "# Descargar los embeddings desde un gogle drive (es la forma más rápida)\n",
    "# NOTA: No hay garantía de que estos links perduren, en caso de que no estén\n",
    "# disponibles descargar de la página oficial como se explica en el siguiente bloque\n",
    "import os\n",
    "import gdown\n",
    "if os.access('gloveembedding.pkl', os.F_OK) is False:\n",
    "    url = 'https://drive.google.com/uc?id=1wlDBOrxPq2-3htQ6ryVo7K1XnzLcfh4r&export=download'\n",
    "    output = 'gloveembedding.pkl'\n",
    "    gdown.download(url, output, quiet=False)\n",
    "else:\n",
    "    print(\"Los embeddings gloveembedding.pkl ya están descargados\")"
   ]
  },
  {
   "cell_type": "markdown",
   "metadata": {
    "id": "wxxMl5-2iO6Y"
   },
   "source": [
    "Esta celda define las clases para cargar y gestionar embeddings de palabras preentrenados (Glove y FastText). Permite convertir palabras a vectores numéricos y viceversa, manejar la serialización de los embeddings mediante pickle para optimizar la carga, y crear embeddings a partir de archivos de texto si no existe la versión serializada. También incluye métodos de acceso y conversión de índices a palabras y de palabras a índices."
   ]
  },
  {
   "cell_type": "code",
   "execution_count": 21,
   "metadata": {
    "id": "ZgqtV8GpkSc8"
   },
   "outputs": [],
   "source": [
    "import logging\n",
    "import os\n",
    "from pathlib import Path\n",
    "from io import StringIO\n",
    "import pickle\n",
    "\n",
    "class WordsEmbeddings(object):\n",
    "    logger = logging.getLogger(__name__)\n",
    "\n",
    "    def __init__(self):\n",
    "        embedding_file = Path(self.PKL_PATH)\n",
    "        if not embedding_file.exists():\n",
    "            text_embedding_file = Path(self.WORD_TO_VEC_MODEL_TXT_PATH)\n",
    "            assert text_embedding_file.exists(), 'Embedding file missing'\n",
    "            word_vectors = self._create_pickle_embeddings()\n",
    "        else:\n",
    "            word_vectors = self._load_pickle_embeddings()\n",
    "\n",
    "        self.word_vectors = word_vectors\n",
    "\n",
    "        indices = np.arange(self.word_vectors.shape[0])\n",
    "        self.word_to_index = dict(zip(self.word_vectors['word'], indices))\n",
    "        self.index_to_word = dict(zip(indices, self.word_vectors['word']))\n",
    "\n",
    "    def get_words_embeddings(self, word_list):\n",
    "        indices = self._convert_words_to_indices(word_list)\n",
    "        return self.word_vectors[indices]['embedding']\n",
    "\n",
    "    def _convert_words_to_indices(self, word_list):\n",
    "        return np.array([self.word_to_index.get(word, -1) for word in word_list])\n",
    "\n",
    "    def _convert_indices_to_words(self, indices):\n",
    "        return np.array([self.index_to_word.get(idx, '-1') for idx in indices])\n",
    "\n",
    "    def _load_pickle_embeddings(self):\n",
    "        self.logger.debug(f'Loading embeddings from {self.PKL_PATH}')\n",
    "        chunk_size = 2**28 - 1\n",
    "        data_bytes = bytearray(0)\n",
    "        file_size = os.path.getsize(self.PKL_PATH)\n",
    "        with open(self.PKL_PATH, 'rb') as file:\n",
    "            for _ in range(0, file_size, chunk_size):\n",
    "                data_bytes += file.read(chunk_size)\n",
    "        embeddings = pickle.loads(data_bytes)\n",
    "        self.logger.debug('Embeddings loaded successfully')\n",
    "        return embeddings\n",
    "\n",
    "    def _create_pickle_embeddings(self):\n",
    "        self.logger.debug(f'Converting embeddings from {self.WORD_TO_VEC_MODEL_TXT_PATH}')\n",
    "        dtype_spec = [\n",
    "            ('word', np.dtype(f'U{self.WORD_MAX_SIZE}')),\n",
    "            ('embedding', np.float32, (self.N_FEATURES,))\n",
    "        ]\n",
    "        structure = np.dtype(dtype_spec)\n",
    "\n",
    "        with open(self.WORD_TO_VEC_MODEL_TXT_PATH, encoding=\"utf8\") as text_file:\n",
    "            embedding_generator = (\n",
    "                (line.split()[0], line.split()[1:]) for line in text_file\n",
    "                if len(line.split()[1:]) == self.N_FEATURES\n",
    "            )\n",
    "            embeddings_array = np.fromiter(embedding_generator, structure)\n",
    "\n",
    "        empty_embedding = np.array(\n",
    "            [('empty_token', np.zeros((self.N_FEATURES,), dtype=np.float32))],\n",
    "            dtype=structure\n",
    "        )\n",
    "        embeddings_array = np.concatenate([embeddings_array, empty_embedding])\n",
    "\n",
    "        max_bytes = 2**28 - 1\n",
    "        serialized_data = pickle.dumps(embeddings_array, protocol=pickle.HIGHEST_PROTOCOL)\n",
    "        with open(self.PKL_PATH, 'wb') as output_file:\n",
    "            for pos in range(0, len(serialized_data), max_bytes):\n",
    "                output_file.write(serialized_data[pos:pos+max_bytes])\n",
    "\n",
    "        self.logger.debug('Embeddings conversion completed')\n",
    "        return embeddings_array\n",
    "\n",
    "\n",
    "class GloveEmbeddings(WordsEmbeddings):\n",
    "    WORD_TO_VEC_MODEL_TXT_PATH = 'glove.twitter.27B.50d.txt'\n",
    "    PKL_PATH = 'gloveembedding.pkl'\n",
    "    N_FEATURES = 50\n",
    "    WORD_MAX_SIZE = 60\n",
    "\n",
    "class FasttextEmbeddings(WordsEmbeddings):\n",
    "    WORD_TO_VEC_MODEL_TXT_PATH = 'cc.en.300.vec'\n",
    "    PKL_PATH = 'fasttext.pkl'\n",
    "    N_FEATURES = 300\n",
    "    WORD_MAX_SIZE = 60"
   ]
  },
  {
   "cell_type": "code",
   "execution_count": 22,
   "metadata": {
    "id": "Mosj2-x-kXBK"
   },
   "outputs": [],
   "source": [
    "# Por una cuestion de RAM se utilizará los embeddings de Glove de dimension 50\n",
    "model_embeddings = GloveEmbeddings()"
   ]
  },
  {
   "cell_type": "code",
   "execution_count": 23,
   "metadata": {
    "colab": {
     "base_uri": "https://localhost:8080/"
    },
    "id": "b9FS8ca1ke_B",
    "outputId": "8238a522-1c16-4187-e3d3-9a7b371d392c"
   },
   "outputs": [
    {
     "name": "stdout",
     "output_type": "stream",
     "text": [
      "preparing embedding matrix...\n",
      "number of null word embeddings: 98\n"
     ]
    }
   ],
   "source": [
    "# Crear la Embedding matrix de las secuencias\n",
    "# en ingles\n",
    "\n",
    "print('preparing embedding matrix...')\n",
    "embed_dim = model_embeddings.N_FEATURES\n",
    "words_not_found = []\n",
    "\n",
    "# word_index provieen del tokenizer\n",
    "\n",
    "nb_words = min(MAX_VOCAB_SIZE, len(word2idx_inputs)) # vocab_size\n",
    "embedding_matrix = np.zeros((nb_words, embed_dim))\n",
    "for word, i in word2idx_inputs.items():\n",
    "    if i >= nb_words:\n",
    "        continue\n",
    "    embedding_vector = model_embeddings.get_words_embeddings(word)[0]\n",
    "    if (embedding_vector is not None) and len(embedding_vector) > 0:\n",
    "\n",
    "        embedding_matrix[i] = embedding_vector\n",
    "    else:\n",
    "        # words not found in embedding index will be all-zeros.\n",
    "        words_not_found.append(word)\n",
    "\n",
    "print('number of null word embeddings:', np.sum(np.sum(embedding_matrix, axis=1) == 0))"
   ]
  },
  {
   "cell_type": "markdown",
   "metadata": {
    "id": "3vKbhjtIwPgM"
   },
   "source": [
    "### 4 - Entrenar el modelo"
   ]
  },
  {
   "cell_type": "markdown",
   "metadata": {
    "id": "gVwOLv-yic7w"
   },
   "source": [
    "Esta celda define la arquitectura de la red secuencial para traducción basada en PyTorch. Se incluyen tres clases principales: EncoderNetwork, que codifica la secuencia de entrada en un estado oculto utilizando embeddings preentrenados y LSTM; DecoderNetwork, que decodifica el estado oculto para generar predicciones de salida palabra por palabra; y SequenceModel, que integra el encoder y el decoder en un modelo completo. También se inicializan el modelo, el optimizador y la función de pérdida, y se imprime un resumen de la arquitectura."
   ]
  },
  {
   "cell_type": "code",
   "execution_count": 24,
   "metadata": {
    "colab": {
     "base_uri": "https://localhost:8080/"
    },
    "id": "3fm3HCLMPSG-",
    "outputId": "14664b1f-8650-42ae-b382-344dbd846324"
   },
   "outputs": [
    {
     "data": {
      "text/plain": [
       "==========================================================================================\n",
       "Layer (type:depth-idx)                   Output Shape              Param #\n",
       "==========================================================================================\n",
       "SequenceModel                            [1, 50, 13918]            --\n",
       "├─EncoderNetwork: 1-1                    [1, 1, 128]               --\n",
       "│    └─Embedding: 2-1                    [1, 50, 50]               (404,250)\n",
       "│    └─LSTM: 2-2                         [1, 50, 128]              92,160\n",
       "├─DecoderNetwork: 1-2                    --                        --\n",
       "│    └─Embedding: 2-3                    [1, 50, 50]               695,900\n",
       "│    └─LSTM: 2-4                         [1, 50, 128]              92,160\n",
       "│    └─Linear: 2-5                       [1, 50, 13918]            1,795,422\n",
       "==========================================================================================\n",
       "Total params: 3,079,892\n",
       "Trainable params: 2,675,642\n",
       "Non-trainable params: 404,250\n",
       "Total mult-adds (Units.MEGABYTES): 12.11\n",
       "==========================================================================================\n",
       "Input size (MB): 11.90\n",
       "Forward/backward pass size (MB): 5.71\n",
       "Params size (MB): 12.32\n",
       "Estimated Total Size (MB): 29.93\n",
       "=========================================================================================="
      ]
     },
     "execution_count": 24,
     "metadata": {},
     "output_type": "execute_result"
    }
   ],
   "source": [
    "class EncoderNetwork(nn.Module):\n",
    "    def __init__(self, vocab_dim):\n",
    "        super().__init__()\n",
    "        self.hidden_dim = 128\n",
    "        self.n_layers = 1\n",
    "        self.embed_dim = embed_dim\n",
    "        self.embed_layer = nn.Embedding(num_embeddings=vocab_dim, embedding_dim=self.embed_dim, padding_idx=0)\n",
    "        self.embed_layer.weight.data.copy_(torch.from_numpy(embedding_matrix))\n",
    "        self.embed_layer.weight.requires_grad = False\n",
    "        self.lstm_cell = nn.LSTM(input_size=self.embed_dim, hidden_size=self.hidden_dim, batch_first=True,\n",
    "                                num_layers=self.n_layers)\n",
    "\n",
    "    def forward(self, input_seq):\n",
    "        embedded = self.embed_layer(input_seq)\n",
    "        lstm_out, hidden_state = self.lstm_cell(embedded)\n",
    "        return hidden_state\n",
    "\n",
    "class DecoderNetwork(nn.Module):\n",
    "    def __init__(self, vocab_dim, output_dim):\n",
    "        super().__init__()\n",
    "        self.hidden_dim = 128\n",
    "        self.n_layers = 1\n",
    "        self.embed_dim = embed_dim\n",
    "        self.output_dim = output_dim\n",
    "\n",
    "        self.embed_layer = nn.Embedding(num_embeddings=vocab_dim, embedding_dim=self.embed_dim, padding_idx=0)\n",
    "        self.lstm_cell = nn.LSTM(input_size=self.embed_dim, hidden_size=self.hidden_dim, batch_first=True,\n",
    "                                num_layers=self.n_layers)\n",
    "        self.output_layer = nn.Linear(in_features=self.hidden_dim, out_features=self.output_dim)\n",
    "\n",
    "    def forward(self, input_seq, prev_hidden):\n",
    "        embedded = self.embed_layer(input_seq)\n",
    "        lstm_out, current_hidden = self.lstm_cell(embedded, prev_hidden)\n",
    "        predictions = self.output_layer(lstm_out[:, -1, :])\n",
    "        return predictions, current_hidden\n",
    "\n",
    "class SequenceModel(nn.Module):\n",
    "    def __init__(self, encoder_net, decoder_net):\n",
    "        super().__init__()\n",
    "\n",
    "        self.encoder_net = encoder_net\n",
    "        self.decoder_net = decoder_net\n",
    "\n",
    "        assert encoder_net.hidden_dim == decoder_net.hidden_dim, \\\n",
    "            \"Encoder and decoder hidden dimensions must match\"\n",
    "        assert encoder_net.n_layers == decoder_net.n_layers, \\\n",
    "            \"Encoder and decoder layer counts must match\"\n",
    "\n",
    "    def forward(self, enc_input, dec_input):\n",
    "        hidden_state = self.encoder_net(enc_input)\n",
    "        decoder_output, _ = self.decoder_net.lstm_cell(self.decoder_net.embed_layer(dec_input), hidden_state)\n",
    "        final_output = self.decoder_net.output_layer(decoder_output)\n",
    "        return final_output\n",
    "\n",
    "encoder_net = EncoderNetwork(vocab_dim=nb_words)\n",
    "if cuda: encoder_net.cuda()\n",
    "\n",
    "decoder_net = DecoderNetwork(vocab_dim=num_words_output, output_dim=num_words_output)\n",
    "if cuda: decoder_net.cuda()\n",
    "\n",
    "model = SequenceModel(encoder_net, decoder_net)\n",
    "if cuda: model.to(device)\n",
    "\n",
    "optimizer = torch.optim.Adam(model.parameters(), lr=0.005)\n",
    "criterion = torch.nn.CrossEntropyLoss()\n",
    "if cuda:\n",
    "    criterion = criterion.to(device)\n",
    "\n",
    "enc_sample, dec_input_sample, dec_output_sample = data_set[0:1]\n",
    "summary(model, input_data=(enc_sample.to(device), dec_input_sample.to(device)))"
   ]
  },
  {
   "cell_type": "code",
   "execution_count": 25,
   "metadata": {
    "colab": {
     "base_uri": "https://localhost:8080/"
    },
    "id": "H85wlw3BZ5Wl",
    "outputId": "eb3d50df-14ed-42ba-90d9-a811185b62a7"
   },
   "outputs": [
    {
     "name": "stdout",
     "output_type": "stream",
     "text": [
      "Epoch: 1/10 - Train loss 0.810 - Train accuracy 0.886 - Valid Loss 0.585 - Valid accuracy 0.906\n",
      "Epoch: 2/10 - Train loss 0.614 - Train accuracy 0.897 - Valid Loss 0.538 - Valid accuracy 0.915\n",
      "Epoch: 3/10 - Train loss 0.531 - Train accuracy 0.902 - Valid Loss 0.527 - Valid accuracy 0.914\n",
      "Epoch: 4/10 - Train loss 0.471 - Train accuracy 0.907 - Valid Loss 0.534 - Valid accuracy 0.915\n",
      "Epoch: 5/10 - Train loss 0.424 - Train accuracy 0.912 - Valid Loss 0.551 - Valid accuracy 0.915\n",
      "Epoch: 6/10 - Train loss 0.387 - Train accuracy 0.917 - Valid Loss 0.567 - Valid accuracy 0.915\n",
      "Epoch: 7/10 - Train loss 0.357 - Train accuracy 0.922 - Valid Loss 0.579 - Valid accuracy 0.913\n",
      "Epoch: 8/10 - Train loss 0.332 - Train accuracy 0.926 - Valid Loss 0.579 - Valid accuracy 0.915\n",
      "Epoch: 9/10 - Train loss 0.313 - Train accuracy 0.929 - Valid Loss 0.608 - Valid accuracy 0.918\n",
      "Epoch: 10/10 - Train loss 0.298 - Train accuracy 0.932 - Valid Loss 0.606 - Valid accuracy 0.918\n"
     ]
    }
   ],
   "source": [
    "hist = train(model,train_dl,val_dl,optimizer,criterion,epochs=10)"
   ]
  },
  {
   "cell_type": "code",
   "execution_count": 26,
   "metadata": {
    "id": "pZzm3tx059Zv"
   },
   "outputs": [
    {
     "data": {
      "image/png": "[encoded data removed]",
      "text/plain": [
       "<Figure size 640x480 with 1 Axes>"
      ]
     },
     "metadata": {},
     "output_type": "display_data"
    }
   ],
   "source": [
    "import matplotlib.pyplot as plt\n",
    "import seaborn as sns\n",
    "epoch_count = range(1, len(hist['accuracy']) + 1)\n",
    "sns.lineplot(x=epoch_count,  y=hist['accuracy'], label='train')\n",
    "sns.lineplot(x=epoch_count,  y=hist['val_accuracy'], label='valid')\n",
    "plt.show()"
   ]
  },
  {
   "cell_type": "markdown",
   "metadata": {
    "id": "C8n75Sopih23"
   },
   "source": [
    "El modelo ya alcanzó su punto óptimo muy temprano y seguir entrenando no mejora el rendimiento en datos nuevos. El valor de precisión se considera aceptable."
   ]
  },
  {
   "cell_type": "markdown",
   "metadata": {
    "id": "Zbwn0ekDy_s2"
   },
   "source": [
    "### 5 - Inferencia"
   ]
  },
  {
   "cell_type": "code",
   "execution_count": 27,
   "metadata": {
    "id": "71XeCtfYmOFx"
   },
   "outputs": [],
   "source": [
    "# Armar lo conversores de indice a palabra:\n",
    "idx2word_input = {v:k for k, v in word2idx_inputs.items()}\n",
    "idx2word_target = {v:k for k, v in word2idx_outputs.items()}"
   ]
  },
  {
   "cell_type": "code",
   "execution_count": 28,
   "metadata": {
    "id": "MlUyp9M6ua2V"
   },
   "outputs": [],
   "source": [
    "def translate_sentence(input_seq):\n",
    "    # Se transforma la sequencia de entrada a los stados \"h\" y \"c\" de la LSTM\n",
    "    # para enviar la primera vez al decoder\"\n",
    "    prev_state = model.encoder_net(encoder_sequence_test_tensor.to(device))\n",
    "\n",
    "    # Se inicializa la secuencia de entrada al decoder como \"<sos>\"\n",
    "    target_seq = np.zeros((1, 1))\n",
    "    target_seq[0, 0] = word2idx_outputs['<sos>']\n",
    "    target_seq_tensor = torch.from_numpy(target_seq.astype(np.int32))\n",
    "\n",
    "    # Se obtiene el indice que finaliza la inferencia\n",
    "    eos = word2idx_outputs['<eos>']\n",
    "\n",
    "    output_sentence = []\n",
    "    for _ in range(max_out_len):\n",
    "        # Predicción del próximo elemento\n",
    "        output, new_prev_state = model.decoder_net(target_seq_tensor.to(device), prev_state)\n",
    "        top1 = output.argmax(1).view(-1, 1)\n",
    "        idx = int(top1.cpu())\n",
    "\n",
    "        # Si es \"end of sentece <eos>\" se acaba\n",
    "        if eos == idx:\n",
    "            break\n",
    "\n",
    "        # Transformar ídx a palabra\n",
    "        word = ''\n",
    "        if idx > 0:\n",
    "            word = idx2word_target[idx]\n",
    "            output_sentence.append(word)\n",
    "\n",
    "        # Actualizar los estados dado la ultimo prediccion\n",
    "        prev_state = new_prev_state\n",
    "\n",
    "        # Actualizar secuencia de entrada con la salida (re-alimentacion)\n",
    "        target_seq_tensor = top1\n",
    "\n",
    "    return ' '.join(output_sentence)"
   ]
  },
  {
   "cell_type": "code",
   "execution_count": 32,
   "metadata": {
    "id": "ZhGVjLKcunxW"
   },
   "outputs": [
    {
     "name": "stdout",
     "output_type": "stream",
     "text": [
      "-\n",
      "Input: Tom is naked.\n",
      "Response: tom es un embustero\n"
     ]
    }
   ],
   "source": [
    "i = np.random.choice(len(input_sentences))\n",
    "input_seq = encoder_input_sequences[i:i+1]\n",
    "encoder_sequence_test_tensor = torch.from_numpy(input_seq.astype(np.int32))\n",
    "translation = translate_sentence(encoder_sequence_test_tensor)\n",
    "print('-')\n",
    "print('Input:', input_sentences[i])\n",
    "print('Response:', translation)"
   ]
  },
  {
   "cell_type": "code",
   "execution_count": 33,
   "metadata": {
    "id": "9QG02lr1bWJa"
   },
   "outputs": [
    {
     "name": "stdout",
     "output_type": "stream",
     "text": [
      "-\n",
      "Input: I can't hear you.\n",
      "Response: no puedo culparos\n"
     ]
    }
   ],
   "source": [
    "i = np.random.choice(len(input_sentences))\n",
    "input_seq = encoder_input_sequences[i:i+1]\n",
    "encoder_sequence_test_tensor = torch.from_numpy(input_seq.astype(np.int32))\n",
    "translation = translate_sentence(encoder_sequence_test_tensor)\n",
    "print('-')\n",
    "print('Input:', input_sentences[i])\n",
    "print('Response:', translation)"
   ]
  },
  {
   "cell_type": "code",
   "execution_count": 34,
   "metadata": {
    "id": "VM9yKVGTbXjy"
   },
   "outputs": [
    {
     "name": "stdout",
     "output_type": "stream",
     "text": [
      "-\n",
      "Input: I've got nothing to say to him.\n",
      "Response: no puedo evitar pensar que tom\n"
     ]
    }
   ],
   "source": [
    "i = np.random.choice(len(input_sentences))\n",
    "input_seq = encoder_input_sequences[i:i+1]\n",
    "encoder_sequence_test_tensor = torch.from_numpy(input_seq.astype(np.int32))\n",
    "translation = translate_sentence(encoder_sequence_test_tensor)\n",
    "print('-')\n",
    "print('Input:', input_sentences[i])\n",
    "print('Response:', translation)"
   ]
  },
  {
   "cell_type": "code",
   "execution_count": 35,
   "metadata": {
    "id": "Xv9jmE6_bXmi"
   },
   "outputs": [
    {
     "name": "stdout",
     "output_type": "stream",
     "text": [
      "-\n",
      "Input: She seemed to be suffering a heart attack.\n",
      "Response: ella no pudo entender ni una sola palabra\n"
     ]
    }
   ],
   "source": [
    "i = np.random.choice(len(input_sentences))\n",
    "input_seq = encoder_input_sequences[i:i+1]\n",
    "encoder_sequence_test_tensor = torch.from_numpy(input_seq.astype(np.int32))\n",
    "translation = translate_sentence(encoder_sequence_test_tensor)\n",
    "print('-')\n",
    "print('Input:', input_sentences[i])\n",
    "print('Response:', translation)"
   ]
  },
  {
   "cell_type": "code",
   "execution_count": 36,
   "metadata": {
    "id": "nmmO_WyObV0Z"
   },
   "outputs": [
    {
     "name": "stdout",
     "output_type": "stream",
     "text": [
      "-\n",
      "Input: Don't pretend what you don't feel.\n",
      "Response: no dejes que te sientas tengas\n"
     ]
    }
   ],
   "source": [
    "i = np.random.choice(len(input_sentences))\n",
    "input_seq = encoder_input_sequences[i:i+1]\n",
    "encoder_sequence_test_tensor = torch.from_numpy(input_seq.astype(np.int32))\n",
    "translation = translate_sentence(encoder_sequence_test_tensor)\n",
    "print('-')\n",
    "print('Input:', input_sentences[i])\n",
    "print('Response:', translation)"
   ]
  },
  {
   "cell_type": "markdown",
   "metadata": {
    "id": "vta8soxYikqG"
   },
   "source": [
    "Solucionados los problemas de compatibilidades y con la idea de poder usar la totalidad del dataset para el entrenamiento, se reemplazo la implementación del one-hot que consumia demasiada ram, se aumentó el tamaño del dataset.\n",
    "El modelo implmentado en eta notebook es el mas grande que llegué a correr hasta ahora. Modelos mas chicos. menos neuronas, arrojaron resultados peores. El modelo corre consiedrablemente mas rápido en GPU (colab) pero experimenté muchos problemas de conexión con el servidor \n",
    "Si bien el modelo respeta el orden gramatical general del españo y genera frases cohorentes, el embedding y la arquitectura seq2seq funciona, las traducciones son débiles o incompletas y se pierde la semantica de las oraciones. Esto es probable que se pueda solucionar aumentando aún mas el tamaño del dataset o aumentando las capas LSTM. La arquitectura implementada no requiere de demasiadas epochs para la convergencia. "
   ]
  },
  {
   "cell_type": "code",
   "execution_count": null,
   "metadata": {},
   "outputs": [],
   "source": []
  }
 ],
 "metadata": {
  "accelerator": "GPU",
  "colab": {
   "gpuType": "T4",
   "provenance": []
  },
  "kernelspec": {
   "display_name": "Python 3 (ipykernel)",
   "language": "python",
   "name": "python3"
  },
  "language_info": {
   "codemirror_mode": {
    "name": "ipython",
    "version": 3
   },
   "file_extension": ".py",
   "mimetype": "text/x-python",
   "name": "python",
   "nbconvert_exporter": "python",
   "pygments_lexer": "ipython3",
   "version": "3.12.4"
  }
 },
 "nbformat": 4,
 "nbformat_minor": 4
}
