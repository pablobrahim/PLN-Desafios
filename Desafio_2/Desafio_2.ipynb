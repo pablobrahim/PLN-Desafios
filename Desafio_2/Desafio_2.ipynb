{
 "cells": [
  {
   "cell_type": "markdown",
   "metadata": {
    "id": "sZd5yLnnHOK0"
   },
   "source": [
    "<img src=\"https://github.com/hernancontigiani/ceia_memorias_especializacion/raw/master/Figures/logoFIUBA.jpg\" width=\"500\" align=\"center\">\n",
    "\n",
    "\n",
    "# Procesamiento de lenguaje natural\n",
    "## Desafio 2\n",
    "\n"
   ]
  },
  {
   "cell_type": "markdown",
   "metadata": {
    "id": "vA7nqkumo9z9"
   },
   "source": [
    "**1**. Crear sus propios vectores con Gensim basado en lo visto en clase con otro dataset.\n",
    "\n",
    "**2**. Probar términos de interés y explicar similitudes en el espacio de embeddings (sacar \n",
    "       conclusiones entre palabras similitudes y diferencias).\n",
    "\n",
    "**3**. Graficarlos\n",
    "\n",
    "**4**. Obtener conclusiones"
   ]
  },
  {
   "cell_type": "code",
   "execution_count": 1,
   "metadata": {},
   "outputs": [
    {
     "name": "stdout",
     "output_type": "stream",
     "text": [
      "Requirement already satisfied: gensim in c:\\users\\pbrahim\\appdata\\local\\anaconda3\\lib\\site-packages (4.3.3)\n",
      "Requirement already satisfied: scipy in c:\\users\\pbrahim\\appdata\\local\\anaconda3\\lib\\site-packages (1.13.1)\n",
      "Collecting scipy\n",
      "  Using cached scipy-1.16.2-cp312-cp312-win_amd64.whl.metadata (60 kB)\n",
      "Requirement already satisfied: numpy in c:\\users\\pbrahim\\appdata\\local\\anaconda3\\lib\\site-packages (1.26.4)\n",
      "Collecting numpy\n",
      "  Using cached numpy-2.3.3-cp312-cp312-win_amd64.whl.metadata (60 kB)\n",
      "Requirement already satisfied: smart-open>=1.8.1 in c:\\users\\pbrahim\\appdata\\local\\anaconda3\\lib\\site-packages (from gensim) (5.2.1)\n",
      "Note: you may need to restart the kernel to use updated packages.\n"
     ]
    }
   ],
   "source": [
    "pip install --upgrade gensim scipy numpy"
   ]
  },
  {
   "cell_type": "code",
   "execution_count": 2,
   "metadata": {
    "id": "lFToQs5FK5uZ"
   },
   "outputs": [],
   "source": [
    "import pandas as pd\n",
    "import matplotlib.pyplot as plt\n",
    "import seaborn as sns\n",
    "import multiprocessing\n",
    "from gensim.models import Word2Vec"
   ]
  },
  {
   "cell_type": "markdown",
   "metadata": {
    "id": "g07zJxG7H9vG"
   },
   "source": [
    "### Datos\n",
    "Utilizaré como dataset canciones de bandas de habla inglesa."
   ]
  },
  {
   "cell_type": "code",
   "execution_count": 3,
   "metadata": {
    "id": "l7z4CSBfpR3X"
   },
   "outputs": [
    {
     "name": "stdout",
     "output_type": "stream",
     "text": [
      "El dataset ya se encuentra descargado\n"
     ]
    }
   ],
   "source": [
    "import os\n",
    "import platform\n",
    "import zipfile\n",
    "import urllib.request\n",
    "\n",
    "# Descargar la carpeta de dataset\n",
    "if os.access('./songs_dataset', os.F_OK) is False:\n",
    "    if os.access('songs_dataset.zip', os.F_OK) is False:\n",
    "        print(\"Descargando dataset...\")\n",
    "        url = \"https://raw.githubusercontent.com/FIUBA-Posgrado-Inteligencia-Artificial/procesamiento_lenguaje_natural/main/datasets/songs_dataset.zip\"\n",
    "        urllib.request.urlretrieve(url, \"songs_dataset.zip\")\n",
    "        print(\"Descarga completada\")\n",
    "    \n",
    "    print(\"Descomprimiendo archivo...\")\n",
    "    with zipfile.ZipFile(\"songs_dataset.zip\", 'r') as zip_ref:\n",
    "        zip_ref.extractall(\".\")\n",
    "    print(\"Descompresión completada\")\n",
    "else:\n",
    "    print(\"El dataset ya se encuentra descargado\")"
   ]
  },
  {
   "cell_type": "code",
   "execution_count": 4,
   "metadata": {
    "id": "mysGrIw9ljC2"
   },
   "outputs": [
    {
     "data": {
      "text/plain": [
       "['adele.txt',\n",
       " 'al-green.txt',\n",
       " 'alicia-keys.txt',\n",
       " 'amy-winehouse.txt',\n",
       " 'beatles.txt',\n",
       " 'bieber.txt',\n",
       " 'bjork.txt',\n",
       " 'blink-182.txt',\n",
       " 'bob-dylan.txt',\n",
       " 'bob-marley.txt',\n",
       " 'britney-spears.txt',\n",
       " 'bruce-springsteen.txt',\n",
       " 'bruno-mars.txt',\n",
       " 'cake.txt',\n",
       " 'dickinson.txt',\n",
       " 'disney.txt',\n",
       " 'dj-khaled.txt',\n",
       " 'dolly-parton.txt',\n",
       " 'dr-seuss.txt',\n",
       " 'drake.txt',\n",
       " 'eminem.txt',\n",
       " 'janisjoplin.txt',\n",
       " 'jimi-hendrix.txt',\n",
       " 'johnny-cash.txt',\n",
       " 'joni-mitchell.txt',\n",
       " 'kanye-west.txt',\n",
       " 'kanye.txt',\n",
       " 'Kanye_West.txt',\n",
       " 'lady-gaga.txt',\n",
       " 'leonard-cohen.txt',\n",
       " 'lil-wayne.txt',\n",
       " 'Lil_Wayne.txt',\n",
       " 'lin-manuel-miranda.txt',\n",
       " 'lorde.txt',\n",
       " 'ludacris.txt',\n",
       " 'michael-jackson.txt',\n",
       " 'missy-elliott.txt',\n",
       " 'nickelback.txt',\n",
       " 'nicki-minaj.txt',\n",
       " 'nirvana.txt',\n",
       " 'notorious-big.txt',\n",
       " 'notorious_big.txt',\n",
       " 'nursery_rhymes.txt',\n",
       " 'patti-smith.txt',\n",
       " 'paul-simon.txt',\n",
       " 'prince.txt',\n",
       " 'r-kelly.txt',\n",
       " 'radiohead.txt',\n",
       " 'rihanna.txt']"
      ]
     },
     "execution_count": 4,
     "metadata": {},
     "output_type": "execute_result"
    }
   ],
   "source": [
    "# Posibles bandas\n",
    "os.listdir(\"./songs_dataset/\")"
   ]
  },
  {
   "cell_type": "code",
   "execution_count": 5,
   "metadata": {
    "id": "ticoqYD1Z3I7"
   },
   "outputs": [
    {
     "name": "stdout",
     "output_type": "stream",
     "text": [
      "Total de líneas: 9616\n"
     ]
    },
    {
     "data": {
      "text/html": [
       "<div>\n",
       "<style scoped>\n",
       "    .dataframe tbody tr th:only-of-type {\n",
       "        vertical-align: middle;\n",
       "    }\n",
       "\n",
       "    .dataframe tbody tr th {\n",
       "        vertical-align: top;\n",
       "    }\n",
       "\n",
       "    .dataframe thead th {\n",
       "        text-align: right;\n",
       "    }\n",
       "</style>\n",
       "<table border=\"1\" class=\"dataframe\">\n",
       "  <thead>\n",
       "    <tr style=\"text-align: right;\">\n",
       "      <th></th>\n",
       "      <th>letra</th>\n",
       "    </tr>\n",
       "  </thead>\n",
       "  <tbody>\n",
       "    <tr>\n",
       "      <th>0</th>\n",
       "      <td>All of this and more is for you</td>\n",
       "    </tr>\n",
       "    <tr>\n",
       "      <th>1</th>\n",
       "      <td>With love, sincerity and deepest care</td>\n",
       "    </tr>\n",
       "    <tr>\n",
       "      <th>2</th>\n",
       "      <td>My life with you I share</td>\n",
       "    </tr>\n",
       "    <tr>\n",
       "      <th>3</th>\n",
       "      <td>Ever since I met you, baby</td>\n",
       "    </tr>\n",
       "    <tr>\n",
       "      <th>4</th>\n",
       "      <td>I've been wantin' to lay you down</td>\n",
       "    </tr>\n",
       "    <tr>\n",
       "      <th>5</th>\n",
       "      <td>But it's so hard to get you</td>\n",
       "    </tr>\n",
       "    <tr>\n",
       "      <th>6</th>\n",
       "      <td>Baby, when you never come around</td>\n",
       "    </tr>\n",
       "    <tr>\n",
       "      <th>7</th>\n",
       "      <td>Every day that you keep it away</td>\n",
       "    </tr>\n",
       "    <tr>\n",
       "      <th>8</th>\n",
       "      <td>It only makes me want it more</td>\n",
       "    </tr>\n",
       "    <tr>\n",
       "      <th>9</th>\n",
       "      <td>Ooh baby, just say the word</td>\n",
       "    </tr>\n",
       "  </tbody>\n",
       "</table>\n",
       "</div>"
      ],
      "text/plain": [
       "                                   letra\n",
       "0        All of this and more is for you\n",
       "1  With love, sincerity and deepest care\n",
       "2               My life with you I share\n",
       "3             Ever since I met you, baby\n",
       "4      I've been wantin' to lay you down\n",
       "5            But it's so hard to get you\n",
       "6       Baby, when you never come around\n",
       "7        Every day that you keep it away\n",
       "8          It only makes me want it more\n",
       "9            Ooh baby, just say the word"
      ]
     },
     "execution_count": 5,
     "metadata": {},
     "output_type": "execute_result"
    }
   ],
   "source": [
    "# Armar el dataset. Voy a usar el dataset de prince \n",
    "with open('songs_dataset/prince.txt', 'r', encoding='utf-8') as file:\n",
    "    lineas = [linea.strip() for linea in file if linea.strip()]  # Eliminar espacios y líneas vacías\n",
    "\n",
    "df = pd.DataFrame(lineas, columns=['letra'])\n",
    "print(f\"Total de líneas: {len(df)}\")\n",
    "df.head(10)\n"
   ]
  },
  {
   "cell_type": "code",
   "execution_count": 6,
   "metadata": {
    "id": "LEpKubK9XzXN"
   },
   "outputs": [
    {
     "name": "stdout",
     "output_type": "stream",
     "text": [
      "Cantidad de documentos: 9616\n"
     ]
    }
   ],
   "source": [
    "print(\"Cantidad de documentos:\", df.shape[0])"
   ]
  },
  {
   "cell_type": "markdown",
   "metadata": {
    "id": "ab94qaFlrA1G"
   },
   "source": [
    "### Preprocesamiento"
   ]
  },
  {
   "cell_type": "code",
   "execution_count": 7,
   "metadata": {},
   "outputs": [
    {
     "name": "stdout",
     "output_type": "stream",
     "text": [
      "Tokenización completada: 9616 oraciones\n"
     ]
    },
    {
     "name": "stderr",
     "output_type": "stream",
     "text": [
      "C:\\Users\\pbrahim\\AppData\\Local\\Temp\\ipykernel_33436\\245013997.py:7: FutureWarning: Series.__getitem__ treating keys as positions is deprecated. In a future version, integer keys will always be treated as labels (consistent with DataFrame behavior). To access a value by position, use `ser.iloc[pos]`\n",
      "  sentence_tokens.append(simple_preprocess(str(row[0])))\n"
     ]
    }
   ],
   "source": [
    "# REEMPLAZO de TensorFlow por Gensim\n",
    "from gensim.utils import simple_preprocess\n",
    "\n",
    "sentence_tokens = []\n",
    "# Recorrer todas las filas y transformar las oraciones\n",
    "for _, row in df.iterrows():\n",
    "    sentence_tokens.append(simple_preprocess(str(row[0])))\n",
    "\n",
    "print(f\"Tokenización completada: {len(sentence_tokens)} oraciones\")\n"
   ]
  },
  {
   "cell_type": "code",
   "execution_count": 8,
   "metadata": {
    "id": "CHepi_DGrbhq"
   },
   "outputs": [
    {
     "data": {
      "text/plain": [
       "[['all', 'of', 'this', 'and', 'more', 'is', 'for', 'you'],\n",
       " ['with', 'love', 'sincerity', 'and', 'deepest', 'care'],\n",
       " ['my', 'life', 'with', 'you', 'share'],\n",
       " ['ever', 'since', 'met', 'you', 'baby'],\n",
       " ['ve', 'been', 'wantin', 'to', 'lay', 'you', 'down'],\n",
       " ['but', 'it', 'so', 'hard', 'to', 'get', 'you'],\n",
       " ['baby', 'when', 'you', 'never', 'come', 'around'],\n",
       " ['every', 'day', 'that', 'you', 'keep', 'it', 'away'],\n",
       " ['it', 'only', 'makes', 'me', 'want', 'it', 'more'],\n",
       " ['ooh', 'baby', 'just', 'say', 'the', 'word']]"
      ]
     },
     "execution_count": 8,
     "metadata": {},
     "output_type": "execute_result"
    }
   ],
   "source": [
    "# Demos un vistazo\n",
    "sentence_tokens[:10]"
   ]
  },
  {
   "cell_type": "markdown",
   "metadata": {
    "id": "BaXV6nlHr5Aa"
   },
   "source": [
    "### Crear los vectores (word2vec)"
   ]
  },
  {
   "cell_type": "code",
   "execution_count": 9,
   "metadata": {
    "id": "OSb0v7h8r7hK"
   },
   "outputs": [],
   "source": [
    "from gensim.models.callbacks import CallbackAny2Vec\n",
    "# Durante el entrenamiento gensim por defecto no informa el \"loss\" en cada época\n",
    "# Sobrecargamos el callback para poder tener esta información\n",
    "class callback(CallbackAny2Vec):\n",
    "    \"\"\"\n",
    "    Callback to print loss after each epoch\n",
    "    \"\"\"\n",
    "    def __init__(self):\n",
    "        self.epoch = 0\n",
    "\n",
    "    def on_epoch_end(self, model):\n",
    "        loss = model.get_latest_training_loss()\n",
    "        if self.epoch == 0:\n",
    "            print('Loss after epoch {}: {}'.format(self.epoch, loss))\n",
    "        else:\n",
    "            print('Loss after epoch {}: {}'.format(self.epoch, loss- self.loss_previous_step))\n",
    "        self.epoch += 1\n",
    "        self.loss_previous_step = loss"
   ]
  },
  {
   "cell_type": "code",
   "execution_count": 10,
   "metadata": {
    "id": "i0wnDdv9sJ47"
   },
   "outputs": [],
   "source": [
    "# Crearmos el modelo generador de vectores\n",
    "# En este caso utilizaremos la estructura modelo Skipgram\n",
    "w2v_model = Word2Vec(min_count=5,    # frecuencia mínima de palabra para incluirla en el vocabulario\n",
    "                     window=2,       # cant de palabras antes y desp de la predicha\n",
    "                     vector_size=300,       # dimensionalidad de los vectores \n",
    "                     negative=20,    # cantidad de negative samples... 0 es no se usa\n",
    "                     workers=1,      # si tienen más cores pueden cambiar este valor\n",
    "                     sg=1)           # modelo 0:CBOW  1:skipgram"
   ]
  },
  {
   "cell_type": "code",
   "execution_count": 11,
   "metadata": {
    "id": "5lTt8wErsf17"
   },
   "outputs": [],
   "source": [
    "# Obtener el vocabulario con los tokens\n",
    "w2v_model.build_vocab(sentence_tokens)"
   ]
  },
  {
   "cell_type": "code",
   "execution_count": 12,
   "metadata": {
    "id": "TNc9qt4os5AT"
   },
   "outputs": [
    {
     "name": "stdout",
     "output_type": "stream",
     "text": [
      "Cantidad de docs en el corpus: 9616\n"
     ]
    }
   ],
   "source": [
    "# Cantidad de filas/docs encontradas en el corpus\n",
    "print(\"Cantidad de docs en el corpus:\", w2v_model.corpus_count)"
   ]
  },
  {
   "cell_type": "code",
   "execution_count": 13,
   "metadata": {
    "id": "idw9cHF3tSMl"
   },
   "outputs": [
    {
     "name": "stdout",
     "output_type": "stream",
     "text": [
      "Cantidad de words distintas en el corpus: 1128\n"
     ]
    }
   ],
   "source": [
    "# Cantidad de words encontradas en el corpus\n",
    "print(\"Cantidad de words distintas en el corpus:\", len(w2v_model.wv.index_to_key))"
   ]
  },
  {
   "cell_type": "markdown",
   "metadata": {
    "id": "fC9mZ8DPk-UC"
   },
   "source": [
    "### Entrenar embeddings"
   ]
  },
  {
   "cell_type": "code",
   "execution_count": 14,
   "metadata": {
    "id": "QSp-x0PAsq56"
   },
   "outputs": [
    {
     "name": "stdout",
     "output_type": "stream",
     "text": [
      "Loss after epoch 0: 405371.9375\n",
      "Loss after epoch 1: 288654.75\n",
      "Loss after epoch 2: 291745.9375\n",
      "Loss after epoch 3: 255344.75\n",
      "Loss after epoch 4: 239785.125\n",
      "Loss after epoch 5: 233872.125\n",
      "Loss after epoch 6: 226706.625\n",
      "Loss after epoch 7: 212890.25\n",
      "Loss after epoch 8: 192304.0\n",
      "Loss after epoch 9: 190405.75\n",
      "Loss after epoch 10: 186618.25\n",
      "Loss after epoch 11: 184322.25\n",
      "Loss after epoch 12: 182422.0\n",
      "Loss after epoch 13: 181275.75\n",
      "Loss after epoch 14: 179350.25\n",
      "Loss after epoch 15: 176060.25\n",
      "Loss after epoch 16: 178055.75\n",
      "Loss after epoch 17: 176491.25\n",
      "Loss after epoch 18: 176880.25\n",
      "Loss after epoch 19: 166159.75\n"
     ]
    },
    {
     "data": {
      "text/plain": [
       "(733365, 1111580)"
      ]
     },
     "execution_count": 14,
     "metadata": {},
     "output_type": "execute_result"
    }
   ],
   "source": [
    "# Entrenamos el modelo generador de vectores\n",
    "# Utilizamos nuestro callback\n",
    "w2v_model.train(sentence_tokens,\n",
    "                 total_examples=w2v_model.corpus_count,\n",
    "                 epochs=20,\n",
    "                 compute_loss = True,\n",
    "                 callbacks=[callback()]\n",
    "                 )"
   ]
  },
  {
   "cell_type": "markdown",
   "metadata": {
    "id": "ddT9NVuNlCAe"
   },
   "source": [
    "### Ensayar"
   ]
  },
  {
   "cell_type": "code",
   "execution_count": 15,
   "metadata": {
    "id": "6cHN9xGLuPEm"
   },
   "outputs": [
    {
     "data": {
      "text/plain": [
       "[('calling', 0.6867708563804626),\n",
       " ('loving', 0.6316197514533997),\n",
       " ('sound', 0.6273171305656433),\n",
       " ('hurry', 0.6216462254524231),\n",
       " ('york', 0.6174184679985046),\n",
       " ('weak', 0.6163065433502197),\n",
       " ('critics', 0.6128811240196228),\n",
       " ('awake', 0.6123108863830566),\n",
       " ('live', 0.604878842830658),\n",
       " ('ring', 0.5929914116859436)]"
      ]
     },
     "execution_count": 15,
     "metadata": {},
     "output_type": "execute_result"
    }
   ],
   "source": [
    "# Palabras que MÁS se relacionan con...:\n",
    "w2v_model.wv.most_similar(positive=[\"love\"], topn=10)"
   ]
  },
  {
   "cell_type": "code",
   "execution_count": 16,
   "metadata": {
    "id": "6cHN9xGLuPEm"
   },
   "outputs": [
    {
     "data": {
      "text/plain": [
       "[('sorry', 0.7379322648048401),\n",
       " ('yea', 0.7031965851783752),\n",
       " ('teach', 0.6902633309364319),\n",
       " ('ooo', 0.682292103767395),\n",
       " ('sweet', 0.6699206233024597),\n",
       " ('dog', 0.6554384231567383),\n",
       " ('fallin', 0.6529253721237183),\n",
       " ('remember', 0.6527729034423828),\n",
       " ('outta', 0.6523392796516418),\n",
       " ('mmm', 0.6483972072601318)]"
      ]
     },
     "execution_count": 16,
     "metadata": {},
     "output_type": "execute_result"
    }
   ],
   "source": [
    "# Palabras que MÁS se relacionan con...:\n",
    "w2v_model.wv.most_similar(positive=[\"baby\"], topn=10)"
   ]
  },
  {
   "cell_type": "code",
   "execution_count": 17,
   "metadata": {
    "id": "6cHN9xGLuPEm"
   },
   "outputs": [
    {
     "data": {
      "text/plain": [
       "[('waste', 0.6955963969230652),\n",
       " ('land', 0.6375869512557983),\n",
       " ('everyday', 0.6339872479438782),\n",
       " ('quite', 0.630098819732666),\n",
       " ('march', 0.628497302532196),\n",
       " ('once', 0.6228129863739014),\n",
       " ('next', 0.6220715045928955),\n",
       " ('years', 0.6171838045120239),\n",
       " ('fuckin', 0.6126856207847595),\n",
       " ('past', 0.6116873621940613)]"
      ]
     },
     "execution_count": 17,
     "metadata": {},
     "output_type": "execute_result"
    }
   ],
   "source": [
    "# Palabras que MÁS se relacionan con...:\n",
    "w2v_model.wv.most_similar(positive=[\"time\"], topn=10)"
   ]
  },
  {
   "cell_type": "code",
   "execution_count": 18,
   "metadata": {
    "id": "47HiU5gdkdMq"
   },
   "outputs": [
    {
     "data": {
      "text/plain": [
       "[('affirmative', 0.0312030129134655),\n",
       " ('internal', -0.018145808950066566),\n",
       " ('your', -0.10929660499095917),\n",
       " ('place', -0.1188286542892456),\n",
       " ('off', -0.12503564357757568),\n",
       " ('his', -0.1313561052083969),\n",
       " ('ready', -0.1327703595161438),\n",
       " ('away', -0.13530008494853973),\n",
       " ('zero', -0.1412997990846634),\n",
       " ('like', -0.1472502201795578)]"
      ]
     },
     "execution_count": 18,
     "metadata": {},
     "output_type": "execute_result"
    }
   ],
   "source": [
    "# Palabras que MENOS se relacionan con...:\n",
    "w2v_model.wv.most_similar(negative=[\"love\"], topn=10)"
   ]
  },
  {
   "cell_type": "code",
   "execution_count": 19,
   "metadata": {
    "id": "47HiU5gdkdMq"
   },
   "outputs": [
    {
     "data": {
      "text/plain": [
       "[('internal', 0.13177011907100677),\n",
       " ('affirmative', 0.036582812666893005),\n",
       " ('annie', -0.14560610055923462),\n",
       " ('christian', -0.16835105419158936),\n",
       " ('water', -0.1713973879814148),\n",
       " ('new', -0.17575418949127197),\n",
       " ('as', -0.1769055277109146),\n",
       " ('old', -0.18267829716205597),\n",
       " ('lady', -0.1828959584236145),\n",
       " ('not', -0.18585549294948578)]"
      ]
     },
     "execution_count": 19,
     "metadata": {},
     "output_type": "execute_result"
    }
   ],
   "source": [
    "# Palabras que MENOS se relacionan con...:\n",
    "w2v_model.wv.most_similar(negative=[\"baby\"], topn=10)"
   ]
  },
  {
   "cell_type": "code",
   "execution_count": 20,
   "metadata": {
    "id": "47HiU5gdkdMq"
   },
   "outputs": [
    {
     "data": {
      "text/plain": [
       "[('internal', 0.07051612436771393),\n",
       " ('affirmative', -0.004968159832060337),\n",
       " ('her', -0.06407134234905243),\n",
       " ('his', -0.09699761867523193),\n",
       " ('de', -0.10479700565338135),\n",
       " ('thank', -0.10964679718017578),\n",
       " ('slam', -0.11010246723890305),\n",
       " ('am', -0.1123565211892128),\n",
       " ('be', -0.1208551898598671),\n",
       " ('old', -0.12165925651788712)]"
      ]
     },
     "execution_count": 20,
     "metadata": {},
     "output_type": "execute_result"
    }
   ],
   "source": [
    "# Palabras que MENOS se relacionan con...:\n",
    "w2v_model.wv.most_similar(negative=[\"time\"], topn=10)"
   ]
  },
  {
   "cell_type": "code",
   "execution_count": 21,
   "metadata": {},
   "outputs": [],
   "source": [
    "# el método `get_vector` permite obtener los vectores:\n",
    "vector_love = w2v_model.wv.get_vector(\"love\")\n",
    "#print(vector_love)"
   ]
  },
  {
   "cell_type": "markdown",
   "metadata": {},
   "source": [
    "Para explorar las relaciones semánticas capturadas por el modelo, se evaluaron las palabras más cercanas y lejanas en el espacio de embeddings para tres términos representativos del corpus: “love”, “baby” y “time”.\n",
    "\n",
    "Término: “love”\n",
    "\n",
    "Las palabras más próximas incluyen “calling”, “loving”, “sound”, “awake”, “live”, entre otras.\n",
    "Estas asociaciones reflejan componentes emocionales y sensoriales del discurso de Prince.\n",
    "Por el contrario, las palabras menos relacionadas con “love” presentan un sesgo hacia lo neutro o técnico, como “internal”, “affirmative” o “zero”, que carecen de carga emocional y se sitúan fuera del campo semántico afectivo predominante.\n",
    "\n",
    "Término: “baby”\n",
    "Las palabras más similares incluyen “sorry”, “sweet”, “remember”, “fallin”, y onomatopeyas como “ooo” o “mmm”.\n",
    "Esto evidencia la asociación afectiva y sensual del término “baby” en el lenguaje de Prince.\n",
    "Entre las palabras menos relacionadas aparecen “internal”, “christian” o “water”, lo que confirma que “baby” se distancia de los contextos espirituales o abstractos.\n",
    "\n",
    "Término: “time”\n",
    "\n",
    "Las palabras más próximas a “time” son “waste”, “everyday”, “once”, “years”, “past”, lo cual indica una relación semántica coherente: el modelo asocia “time” con términos que denotan duración, cambio o paso del tiempo, lo que demuestra que los embeddings lograron capturar un significado temporal de manera consistente.\n",
    "Las menos relacionadas se vinculan a contextos más personales distintos del plano temporal en el que “time” suele aparecer. Llama la atención la poca cercanía de \"old\".\n",
    "\n",
    "En definitiva, tanto las palabras relacionadas como las no relacionadas con los términos analizados son consistentes con la percepción general que uno tiene del contenido de las letras de Prince."
   ]
  },
  {
   "cell_type": "markdown",
   "metadata": {
    "id": "_g8UVWe6lFmh"
   },
   "source": [
    "### Visualizar agrupación de vectores"
   ]
  },
  {
   "cell_type": "code",
   "execution_count": 23,
   "metadata": {
    "id": "pDxEVXAivjr9"
   },
   "outputs": [],
   "source": [
    "from sklearn.decomposition import IncrementalPCA    \n",
    "from sklearn.manifold import TSNE                   \n",
    "import numpy as np                                  \n",
    "\n",
    "def reduce_dimensions(model, num_dimensions = 2 ):\n",
    "     \n",
    "    vectors = np.asarray(model.wv.vectors)\n",
    "    labels = np.asarray(model.wv.index_to_key)  \n",
    "\n",
    "    tsne = TSNE(n_components=num_dimensions, random_state=0)\n",
    "    vectors = tsne.fit_transform(vectors)\n",
    "\n",
    "    return vectors, labels\n"
   ]
  },
  {
   "cell_type": "code",
   "execution_count": 29,
   "metadata": {},
   "outputs": [
    {
     "data": {
      "text/html": [
       "<html>\n",
       "<head><meta charset=\"utf-8\" /></head>\n",
       "<body>\n",
       "    <div>            <script src=\"https://cdnjs.cloudflare.com/ajax/libs/mathjax/2.7.5/MathJax.js?config=TeX-AMS-MML_SVG\"></script><script type=\"text/javascript\">if (window.MathJax && window.MathJax.Hub && window.MathJax.Hub.Config) {window.MathJax.Hub.Config({SVG: {font: \"STIX-Web\"}});}</script>                <script type=\"text/javascript\">window.PlotlyConfig = {MathJaxConfig: 'local'};</script>\n",
       "        <script charset=\"utf-8\" src=\"https://cdn.plot.ly/plotly-2.32.0.min.js\"></script>                <div id=\"7097115e-dd9d-4ec7-9c55-7454edec53af\" class=\"plotly-graph-div\" style=\"height:525px; width:100%;\"></div>            <script type=\"text/javascript\">                                    window.PLOTLYENV=window.PLOTLYENV || {};                                    if (document.getElementById(\"7097115e-dd9d-4ec7-9c55-7454edec53af\")) {                    Plotly.newPlot(                        \"7097115e-dd9d-4ec7-9c55-7454edec53af\",                        [{\"hovertemplate\":\"x=%{x}\\u003cbr\\u003ey=%{y}\\u003cbr\\u003etext=%{text}\\u003cextra\\u003e\\u003c\\u002fextra\\u003e\",\"legendgroup\":\"\",\"marker\":{\"color\":\"#636efa\",\"symbol\":\"circle\"},\"mode\":\"markers+text\",\"name\":\"\",\"orientation\":\"v\",\"showlegend\":false,\"text\":[\"the\",\"it\",\"and\",\"me\",\"in\",\"that\",\"we\",\"you\",\"all\",\"your\",\"love\",\"my\",\"do\",\"on\",\"yeah\",\"baby\",\"be\",\"is\",\"can\",\"of\",\"don\",\"to\",\"so\",\"if\",\"go\",\"come\",\"what\",\"oh\",\"just\",\"this\",\"re\",\"with\",\"got\",\"no\",\"when\",\"get\",\"like\",\"say\",\"will\",\"wanna\",\"know\",\"ll\",\"up\",\"time\",\"let\",\"but\",\"there\",\"want\",\"gonna\",\"down\",\"la\",\"now\",\"they\",\"she\",\"are\",\"was\",\"see\",\"how\",\"everybody\",\"he\",\"tell\",\"one\",\"night\",\"have\",\"ve\",\"would\",\"not\",\"right\",\"girl\",\"make\",\"take\",\"never\",\"ooh\",\"here\",\"could\",\"who\",\"only\",\"stop\",\"ain\",\"body\",\"about\",\"dance\",\"out\",\"party\",\"as\",\"life\",\"every\",\"push\",\"think\",\"ever\",\"more\",\"cuz\",\"man\",\"her\",\"then\",\"ya\",\"us\",\"new\",\"world\",\"good\",\"play\",\"over\",\"off\",\"alright\",\"why\",\"said\",\"day\",\"mind\",\"for\",\"where\",\"rock\",\"cry\",\"way\",\"need\",\"little\",\"before\",\"joy\",\"some\",\"around\",\"round\",\"from\",\"gotta\",\"live\",\"long\",\"hey\",\"back\",\"thing\",\"at\",\"or\",\"maybe\",\"music\",\"give\",\"grind\",\"better\",\"yes\",\"still\",\"shake\",\"jack\",\"funky\",\"another\",\"look\",\"beautiful\",\"something\",\"sexy\",\"tonight\",\"than\",\"been\",\"had\",\"heart\",\"god\",\"hot\",\"face\",\"daddy\",\"feel\",\"am\",\"pop\",\"name\",\"talk\",\"much\",\"space\",\"bitch\",\"light\",\"find\",\"until\",\"other\",\"were\",\"somebody\",\"people\",\"kiss\",\"die\",\"ass\",\"try\",\"free\",\"please\",\"stand\",\"da\",\"turn\",\"prince\",\"care\",\"cause\",\"put\",\"going\",\"feeling\",\"our\",\"na\",\"ready\",\"place\",\"really\",\"sex\",\"til\",\"keep\",\"nothing\",\"lover\",\"billy\",\"an\",\"melody\",\"won\",\"things\",\"dark\",\"hear\"],\"x\":[0.9221261143684387,-16.909896850585938,-10.60395622253418,-6.80293607711792,6.614932537078857,-0.22090689837932587,-18.59739875793457,6.371026992797852,-7.31758975982666,8.258265495300293,19.198034286499023,15.13805866241455,-15.308686256408691,-23.753498077392578,-25.793859481811523,-8.909868240356445,2.197000741958618,16.237600326538086,10.832621574401855,8.865346908569336,7.493612766265869,3.199950695037842,-0.5285028219223022,11.558302879333496,-34.5343132019043,-11.251662254333496,1.0627772808074951,-27.353540420532227,2.9699347019195557,2.245124340057373,-5.910861492156982,-21.110700607299805,24.5079288482666,18.20319366455078,21.81604766845703,-23.212989807128906,1.4786020517349243,-15.286340713500977,-24.197681427001953,-7.0619964599609375,7.717710494995117,-5.532094478607178,-24.859020233154297,26.21019172668457,-7.106647968292236,-4.32556676864624,19.391721725463867,-0.12279799580574036,0.7873879671096802,-19.158042907714844,-11.312691688537598,-15.507079124450684,6.447189807891846,23.1314754486084,-11.145833015441895,20.65614128112793,33.324337005615234,31.771907806396484,-21.033126831054688,22.29938316345215,0.46777817606925964,13.410720825195312,23.935144424438477,13.232688903808594,23.329923629760742,-12.038544654846191,7.75424337387085,-18.504838943481445,0.15354414284229279,-4.724552631378174,-8.552714347839355,20.713390350341797,-20.38695526123047,-11.504059791564941,10.802680015563965,15.278316497802734,12.210083961486816,12.314772605895996,16.131078720092773,11.320704460144043,3.890503168106079,-15.370540618896484,-5.892155647277832,-20.678009033203125,30.070833206176758,16.569490432739258,14.136335372924805,-25.98544692993164,4.340025901794434,19.297874450683594,12.384440422058105,10.263277053833008,17.797849655151367,20.453428268432617,-12.922513008117676,-13.145488739013672,-12.910155296325684,1.542602300643921,-2.392270088195801,-17.83690071105957,-18.652507781982422,-4.837987899780273,-9.235849380493164,-16.108905792236328,14.147220611572266,14.091142654418945,14.894070625305176,4.099565505981445,11.226910591125488,4.344610691070557,-11.063692092895508,30.276107788085938,25.695241928100586,-2.318131446838379,13.875798225402832,11.913956642150879,8.83951187133789,13.015673637390137,-14.023687362670898,-14.498586654663086,20.7307186126709,-19.181882858276367,18.75353240966797,27.476388931274414,-28.4277286529541,-13.160039901733398,11.735654830932617,-7.703614234924316,-16.348541259765625,9.747235298156738,20.103981018066406,-4.536259651184082,-32.360923767089844,13.036450386047363,-27.02761459350586,16.66196060180664,-29.277620315551758,29.63134002685547,-14.069938659667969,-12.094975471496582,-8.279415130615234,2.560781717300415,-2.092965602874756,30.39354705810547,-5.078094482421875,11.630800247192383,21.61172103881836,21.061206817626953,5.565333843231201,23.45229721069336,10.74910831451416,20.21923828125,-28.5685977935791,-19.960697174072266,-2.529381275177002,-28.568960189819336,14.578865051269531,4.869386196136475,14.095688819885254,-12.00538158416748,30.03034782409668,-26.472469329833984,-22.918258666992188,20.33446502685547,19.945432662963867,16.876121520996094,-9.860002517700195,-10.696486473083496,-5.223823070526123,-1.73911452293396,30.420082092285156,-2.48222017288208,4.292881965637207,-10.377952575683594,-26.64291000366211,-18.113798141479492,-22.200387954711914,14.581267356872559,5.359251022338867,6.651466369628906,-14.620311737060547,-16.06194496154785,12.835552215576172,8.327716827392578,-9.553412437438965,-31.08405303955078,10.881101608276367,16.096473693847656,19.902494430541992,11.480902671813965,15.673542022705078,2.3256351947784424,-12.209820747375488,29.961183547973633,-0.24132774770259857,19.994094848632812,1.3478851318359375,21.891368865966797,-9.306344032287598,-2.006464958190918],\"xaxis\":\"x\",\"y\":[7.517772674560547,-14.439656257629395,2.3163094520568848,-20.060741424560547,14.323275566101074,-25.190248489379883,-19.262069702148438,-19.045894622802734,5.4243292808532715,16.06972885131836,11.845057487487793,13.131394386291504,-21.25960922241211,-10.747721672058105,10.105792045593262,-10.420641899108887,-15.865089416503906,14.273823738098145,-21.899499893188477,24.67733383178711,-25.63743782043457,-19.330833435058594,0.13001175224781036,-14.438528060913086,1.7024643421173096,-3.954927444458008,-26.198379516601562,12.509138107299805,-21.588529586791992,4.559689998626709,-0.400175541639328,15.548480033874512,-24.443714141845703,-1.3785139322280884,-8.156639099121094,4.213065147399902,-22.746356964111328,-11.030815124511719,17.69525146484375,-25.0827579498291,-23.55295181274414,-14.5802001953125,1.9375542402267456,-4.547845840454102,-15.32481861114502,-23.63408851623535,0.24078203737735748,-19.007530212402344,-14.582931518554688,-4.714754581451416,33.9364013671875,-13.359793663024902,-14.938126564025879,-10.470940589904785,24.618501663208008,2.087022066116333,-11.479009628295898,-3.360511541366577,23.576618194580078,-10.546565055847168,-28.001970291137695,6.923786640167236,4.87588357925415,-12.505690574645996,-21.658525466918945,-16.433998107910156,-30.729381561279297,1.8798764944076538,-8.23466682434082,-12.835698127746582,-14.43254566192627,-14.072000503540039,11.684192657470703,-6.199904441833496,-26.762868881225586,-23.622037887573242,10.57010555267334,-23.660045623779297,-3.3051159381866455,18.683486938476562,-27.84660530090332,-16.552684783935547,4.238120079040527,7.506093502044678,5.028444766998291,11.185623168945312,9.505151748657227,-2.217177391052246,-29.607194900512695,-21.112163543701172,-4.617883682250977,-16.450223922729492,4.7367353439331055,-9.97939682006836,-20.1503849029541,-29.573440551757812,-0.6281296014785767,35.985904693603516,2.646455764770508,-26.62265968322754,15.0177583694458,20.88981819152832,-4.888123035430908,28.015785217285156,-20.314489364624023,-16.436525344848633,8.02977180480957,23.30880355834961,-7.2770280838012695,-25.64792823791504,13.893372535705566,-17.67426872253418,-1.1874867677688599,-20.423303604125977,31.908151626586914,-33.11361312866211,33.275634765625,-10.328217506408691,2.500339984893799,1.3050363063812256,-6.426711082458496,-11.251839637756348,10.563984870910645,3.2365407943725586,7.398193836212158,-3.513812780380249,12.863302230834961,7.011621475219727,-22.454055786132812,-14.578478813171387,28.9639892578125,-32.53643035888672,-6.539614200592041,-6.160123348236084,14.14256763458252,-12.840511322021484,-1.0320184230804443,-23.619264602661133,13.547362327575684,-24.66254425048828,5.848841190338135,-14.190200805664062,-27.296916961669922,15.540513038635254,36.29951095581055,-3.1876845359802246,-21.738969802856445,-19.812767028808594,20.005834579467773,12.530253410339355,14.04117202758789,26.119091033935547,18.700777053833008,-26.024219512939453,29.249950408935547,18.69615364074707,15.067716598510742,-19.934856414794922,-28.507429122924805,6.213934421539307,-23.247159957885742,-11.891860961914062,24.40553092956543,8.20307445526123,17.18885040283203,1.5108321905136108,-18.816059112548828,-19.99772071838379,-18.72359848022461,-13.558733940124512,13.810016632080078,-32.38957595825195,25.779916763305664,-24.646270751953125,3.388637065887451,-4.496641635894775,-7.70520544052124,15.454193115234375,-26.763975143432617,-17.008394241333008,-28.038522720336914,-0.6693326234817505,-24.531015396118164,15.432634353637695,32.8251838684082,14.213443756103516,27.886974334716797,-20.509075164794922,29.520719528198242,4.169751167297363,-13.870499610900879,-0.20440688729286194,18.017946243286133,-23.31295394897461,16.530067443847656,-30.041345596313477,-20.270116806030273,-17.547658920288086,-27.95574378967285,-17.43494415283203],\"yaxis\":\"y\",\"type\":\"scatter\"}],                        {\"template\":{\"data\":{\"histogram2dcontour\":[{\"type\":\"histogram2dcontour\",\"colorbar\":{\"outlinewidth\":0,\"ticks\":\"\"},\"colorscale\":[[0.0,\"#0d0887\"],[0.1111111111111111,\"#46039f\"],[0.2222222222222222,\"#7201a8\"],[0.3333333333333333,\"#9c179e\"],[0.4444444444444444,\"#bd3786\"],[0.5555555555555556,\"#d8576b\"],[0.6666666666666666,\"#ed7953\"],[0.7777777777777778,\"#fb9f3a\"],[0.8888888888888888,\"#fdca26\"],[1.0,\"#f0f921\"]]}],\"choropleth\":[{\"type\":\"choropleth\",\"colorbar\":{\"outlinewidth\":0,\"ticks\":\"\"}}],\"histogram2d\":[{\"type\":\"histogram2d\",\"colorbar\":{\"outlinewidth\":0,\"ticks\":\"\"},\"colorscale\":[[0.0,\"#0d0887\"],[0.1111111111111111,\"#46039f\"],[0.2222222222222222,\"#7201a8\"],[0.3333333333333333,\"#9c179e\"],[0.4444444444444444,\"#bd3786\"],[0.5555555555555556,\"#d8576b\"],[0.6666666666666666,\"#ed7953\"],[0.7777777777777778,\"#fb9f3a\"],[0.8888888888888888,\"#fdca26\"],[1.0,\"#f0f921\"]]}],\"heatmap\":[{\"type\":\"heatmap\",\"colorbar\":{\"outlinewidth\":0,\"ticks\":\"\"},\"colorscale\":[[0.0,\"#0d0887\"],[0.1111111111111111,\"#46039f\"],[0.2222222222222222,\"#7201a8\"],[0.3333333333333333,\"#9c179e\"],[0.4444444444444444,\"#bd3786\"],[0.5555555555555556,\"#d8576b\"],[0.6666666666666666,\"#ed7953\"],[0.7777777777777778,\"#fb9f3a\"],[0.8888888888888888,\"#fdca26\"],[1.0,\"#f0f921\"]]}],\"heatmapgl\":[{\"type\":\"heatmapgl\",\"colorbar\":{\"outlinewidth\":0,\"ticks\":\"\"},\"colorscale\":[[0.0,\"#0d0887\"],[0.1111111111111111,\"#46039f\"],[0.2222222222222222,\"#7201a8\"],[0.3333333333333333,\"#9c179e\"],[0.4444444444444444,\"#bd3786\"],[0.5555555555555556,\"#d8576b\"],[0.6666666666666666,\"#ed7953\"],[0.7777777777777778,\"#fb9f3a\"],[0.8888888888888888,\"#fdca26\"],[1.0,\"#f0f921\"]]}],\"contourcarpet\":[{\"type\":\"contourcarpet\",\"colorbar\":{\"outlinewidth\":0,\"ticks\":\"\"}}],\"contour\":[{\"type\":\"contour\",\"colorbar\":{\"outlinewidth\":0,\"ticks\":\"\"},\"colorscale\":[[0.0,\"#0d0887\"],[0.1111111111111111,\"#46039f\"],[0.2222222222222222,\"#7201a8\"],[0.3333333333333333,\"#9c179e\"],[0.4444444444444444,\"#bd3786\"],[0.5555555555555556,\"#d8576b\"],[0.6666666666666666,\"#ed7953\"],[0.7777777777777778,\"#fb9f3a\"],[0.8888888888888888,\"#fdca26\"],[1.0,\"#f0f921\"]]}],\"surface\":[{\"type\":\"surface\",\"colorbar\":{\"outlinewidth\":0,\"ticks\":\"\"},\"colorscale\":[[0.0,\"#0d0887\"],[0.1111111111111111,\"#46039f\"],[0.2222222222222222,\"#7201a8\"],[0.3333333333333333,\"#9c179e\"],[0.4444444444444444,\"#bd3786\"],[0.5555555555555556,\"#d8576b\"],[0.6666666666666666,\"#ed7953\"],[0.7777777777777778,\"#fb9f3a\"],[0.8888888888888888,\"#fdca26\"],[1.0,\"#f0f921\"]]}],\"mesh3d\":[{\"type\":\"mesh3d\",\"colorbar\":{\"outlinewidth\":0,\"ticks\":\"\"}}],\"scatter\":[{\"fillpattern\":{\"fillmode\":\"overlay\",\"size\":10,\"solidity\":0.2},\"type\":\"scatter\"}],\"parcoords\":[{\"type\":\"parcoords\",\"line\":{\"colorbar\":{\"outlinewidth\":0,\"ticks\":\"\"}}}],\"scatterpolargl\":[{\"type\":\"scatterpolargl\",\"marker\":{\"colorbar\":{\"outlinewidth\":0,\"ticks\":\"\"}}}],\"bar\":[{\"error_x\":{\"color\":\"#2a3f5f\"},\"error_y\":{\"color\":\"#2a3f5f\"},\"marker\":{\"line\":{\"color\":\"#E5ECF6\",\"width\":0.5},\"pattern\":{\"fillmode\":\"overlay\",\"size\":10,\"solidity\":0.2}},\"type\":\"bar\"}],\"scattergeo\":[{\"type\":\"scattergeo\",\"marker\":{\"colorbar\":{\"outlinewidth\":0,\"ticks\":\"\"}}}],\"scatterpolar\":[{\"type\":\"scatterpolar\",\"marker\":{\"colorbar\":{\"outlinewidth\":0,\"ticks\":\"\"}}}],\"histogram\":[{\"marker\":{\"pattern\":{\"fillmode\":\"overlay\",\"size\":10,\"solidity\":0.2}},\"type\":\"histogram\"}],\"scattergl\":[{\"type\":\"scattergl\",\"marker\":{\"colorbar\":{\"outlinewidth\":0,\"ticks\":\"\"}}}],\"scatter3d\":[{\"type\":\"scatter3d\",\"line\":{\"colorbar\":{\"outlinewidth\":0,\"ticks\":\"\"}},\"marker\":{\"colorbar\":{\"outlinewidth\":0,\"ticks\":\"\"}}}],\"scattermapbox\":[{\"type\":\"scattermapbox\",\"marker\":{\"colorbar\":{\"outlinewidth\":0,\"ticks\":\"\"}}}],\"scatterternary\":[{\"type\":\"scatterternary\",\"marker\":{\"colorbar\":{\"outlinewidth\":0,\"ticks\":\"\"}}}],\"scattercarpet\":[{\"type\":\"scattercarpet\",\"marker\":{\"colorbar\":{\"outlinewidth\":0,\"ticks\":\"\"}}}],\"carpet\":[{\"aaxis\":{\"endlinecolor\":\"#2a3f5f\",\"gridcolor\":\"white\",\"linecolor\":\"white\",\"minorgridcolor\":\"white\",\"startlinecolor\":\"#2a3f5f\"},\"baxis\":{\"endlinecolor\":\"#2a3f5f\",\"gridcolor\":\"white\",\"linecolor\":\"white\",\"minorgridcolor\":\"white\",\"startlinecolor\":\"#2a3f5f\"},\"type\":\"carpet\"}],\"table\":[{\"cells\":{\"fill\":{\"color\":\"#EBF0F8\"},\"line\":{\"color\":\"white\"}},\"header\":{\"fill\":{\"color\":\"#C8D4E3\"},\"line\":{\"color\":\"white\"}},\"type\":\"table\"}],\"barpolar\":[{\"marker\":{\"line\":{\"color\":\"#E5ECF6\",\"width\":0.5},\"pattern\":{\"fillmode\":\"overlay\",\"size\":10,\"solidity\":0.2}},\"type\":\"barpolar\"}],\"pie\":[{\"automargin\":true,\"type\":\"pie\"}]},\"layout\":{\"autotypenumbers\":\"strict\",\"colorway\":[\"#636efa\",\"#EF553B\",\"#00cc96\",\"#ab63fa\",\"#FFA15A\",\"#19d3f3\",\"#FF6692\",\"#B6E880\",\"#FF97FF\",\"#FECB52\"],\"font\":{\"color\":\"#2a3f5f\"},\"hovermode\":\"closest\",\"hoverlabel\":{\"align\":\"left\"},\"paper_bgcolor\":\"white\",\"plot_bgcolor\":\"#E5ECF6\",\"polar\":{\"bgcolor\":\"#E5ECF6\",\"angularaxis\":{\"gridcolor\":\"white\",\"linecolor\":\"white\",\"ticks\":\"\"},\"radialaxis\":{\"gridcolor\":\"white\",\"linecolor\":\"white\",\"ticks\":\"\"}},\"ternary\":{\"bgcolor\":\"#E5ECF6\",\"aaxis\":{\"gridcolor\":\"white\",\"linecolor\":\"white\",\"ticks\":\"\"},\"baxis\":{\"gridcolor\":\"white\",\"linecolor\":\"white\",\"ticks\":\"\"},\"caxis\":{\"gridcolor\":\"white\",\"linecolor\":\"white\",\"ticks\":\"\"}},\"coloraxis\":{\"colorbar\":{\"outlinewidth\":0,\"ticks\":\"\"}},\"colorscale\":{\"sequential\":[[0.0,\"#0d0887\"],[0.1111111111111111,\"#46039f\"],[0.2222222222222222,\"#7201a8\"],[0.3333333333333333,\"#9c179e\"],[0.4444444444444444,\"#bd3786\"],[0.5555555555555556,\"#d8576b\"],[0.6666666666666666,\"#ed7953\"],[0.7777777777777778,\"#fb9f3a\"],[0.8888888888888888,\"#fdca26\"],[1.0,\"#f0f921\"]],\"sequentialminus\":[[0.0,\"#0d0887\"],[0.1111111111111111,\"#46039f\"],[0.2222222222222222,\"#7201a8\"],[0.3333333333333333,\"#9c179e\"],[0.4444444444444444,\"#bd3786\"],[0.5555555555555556,\"#d8576b\"],[0.6666666666666666,\"#ed7953\"],[0.7777777777777778,\"#fb9f3a\"],[0.8888888888888888,\"#fdca26\"],[1.0,\"#f0f921\"]],\"diverging\":[[0,\"#8e0152\"],[0.1,\"#c51b7d\"],[0.2,\"#de77ae\"],[0.3,\"#f1b6da\"],[0.4,\"#fde0ef\"],[0.5,\"#f7f7f7\"],[0.6,\"#e6f5d0\"],[0.7,\"#b8e186\"],[0.8,\"#7fbc41\"],[0.9,\"#4d9221\"],[1,\"#276419\"]]},\"xaxis\":{\"gridcolor\":\"white\",\"linecolor\":\"white\",\"ticks\":\"\",\"title\":{\"standoff\":15},\"zerolinecolor\":\"white\",\"automargin\":true,\"zerolinewidth\":2},\"yaxis\":{\"gridcolor\":\"white\",\"linecolor\":\"white\",\"ticks\":\"\",\"title\":{\"standoff\":15},\"zerolinecolor\":\"white\",\"automargin\":true,\"zerolinewidth\":2},\"scene\":{\"xaxis\":{\"backgroundcolor\":\"#E5ECF6\",\"gridcolor\":\"white\",\"linecolor\":\"white\",\"showbackground\":true,\"ticks\":\"\",\"zerolinecolor\":\"white\",\"gridwidth\":2},\"yaxis\":{\"backgroundcolor\":\"#E5ECF6\",\"gridcolor\":\"white\",\"linecolor\":\"white\",\"showbackground\":true,\"ticks\":\"\",\"zerolinecolor\":\"white\",\"gridwidth\":2},\"zaxis\":{\"backgroundcolor\":\"#E5ECF6\",\"gridcolor\":\"white\",\"linecolor\":\"white\",\"showbackground\":true,\"ticks\":\"\",\"zerolinecolor\":\"white\",\"gridwidth\":2}},\"shapedefaults\":{\"line\":{\"color\":\"#2a3f5f\"}},\"annotationdefaults\":{\"arrowcolor\":\"#2a3f5f\",\"arrowhead\":0,\"arrowwidth\":1},\"geo\":{\"bgcolor\":\"white\",\"landcolor\":\"#E5ECF6\",\"subunitcolor\":\"white\",\"showland\":true,\"showlakes\":true,\"lakecolor\":\"white\"},\"title\":{\"x\":0.05},\"mapbox\":{\"style\":\"light\"}}},\"xaxis\":{\"anchor\":\"y\",\"domain\":[0.0,1.0],\"title\":{\"text\":\"x\"}},\"yaxis\":{\"anchor\":\"x\",\"domain\":[0.0,1.0],\"title\":{\"text\":\"y\"}},\"legend\":{\"tracegroupgap\":0},\"margin\":{\"t\":60}},                        {\"responsive\": true}                    ).then(function(){\n",
       "                            \n",
       "var gd = document.getElementById('7097115e-dd9d-4ec7-9c55-7454edec53af');\n",
       "var x = new MutationObserver(function (mutations, observer) {{\n",
       "        var display = window.getComputedStyle(gd).display;\n",
       "        if (!display || display === 'none') {{\n",
       "            console.log([gd, 'removed!']);\n",
       "            Plotly.purge(gd);\n",
       "            observer.disconnect();\n",
       "        }}\n",
       "}});\n",
       "\n",
       "// Listen for the removal of the full notebook cells\n",
       "var notebookContainer = gd.closest('#notebook-container');\n",
       "if (notebookContainer) {{\n",
       "    x.observe(notebookContainer, {childList: true});\n",
       "}}\n",
       "\n",
       "// Listen for the clearing of the current output cell\n",
       "var outputEl = gd.closest('.output');\n",
       "if (outputEl) {{\n",
       "    x.observe(outputEl, {childList: true});\n",
       "}}\n",
       "\n",
       "                        })                };                            </script>        </div>\n",
       "</body>\n",
       "</html>"
      ]
     },
     "metadata": {},
     "output_type": "display_data"
    }
   ],
   "source": [
    "# Graficar los embedddings en 2D\n",
    "import plotly.graph_objects as go\n",
    "import plotly.express as px\n",
    "\n",
    "vecs, labels = reduce_dimensions(w2v_model)\n",
    "\n",
    "MAX_WORDS=200\n",
    "fig = px.scatter(x=vecs[:MAX_WORDS,0], y=vecs[:MAX_WORDS,1], text=labels[:MAX_WORDS])\n",
    "fig.show(renderer=\"colab\") # esto para plotly en colab"
   ]
  },
  {
   "cell_type": "code",
   "execution_count": 25,
   "metadata": {},
   "outputs": [
    {
     "data": {
      "text/html": [
       "<html>\n",
       "<head><meta charset=\"utf-8\" /></head>\n",
       "<body>\n",
       "    <div>            <script src=\"https://cdnjs.cloudflare.com/ajax/libs/mathjax/2.7.5/MathJax.js?config=TeX-AMS-MML_SVG\"></script><script type=\"text/javascript\">if (window.MathJax && window.MathJax.Hub && window.MathJax.Hub.Config) {window.MathJax.Hub.Config({SVG: {font: \"STIX-Web\"}});}</script>                <script type=\"text/javascript\">window.PlotlyConfig = {MathJaxConfig: 'local'};</script>\n",
       "        <script charset=\"utf-8\" src=\"https://cdn.plot.ly/plotly-2.32.0.min.js\"></script>                <div id=\"70998c1f-e1fd-48bb-824c-fb446577764f\" class=\"plotly-graph-div\" style=\"height:525px; width:100%;\"></div>            <script type=\"text/javascript\">                                    window.PLOTLYENV=window.PLOTLYENV || {};                                    if (document.getElementById(\"70998c1f-e1fd-48bb-824c-fb446577764f\")) {                    Plotly.newPlot(                        \"70998c1f-e1fd-48bb-824c-fb446577764f\",                        [{\"hovertemplate\":\"x=%{x}\\u003cbr\\u003ey=%{y}\\u003cbr\\u003ez=%{z}\\u003cbr\\u003etext=%{text}\\u003cextra\\u003e\\u003c\\u002fextra\\u003e\",\"legendgroup\":\"\",\"marker\":{\"color\":\"#636efa\",\"symbol\":\"circle\",\"size\":2},\"mode\":\"markers+text\",\"name\":\"\",\"scene\":\"scene\",\"showlegend\":false,\"text\":[\"the\",\"it\",\"and\",\"me\",\"in\",\"that\",\"we\",\"you\",\"all\",\"your\",\"love\",\"my\",\"do\",\"on\",\"yeah\",\"baby\",\"be\",\"is\",\"can\",\"of\",\"don\",\"to\",\"so\",\"if\",\"go\",\"come\",\"what\",\"oh\",\"just\",\"this\",\"re\",\"with\",\"got\",\"no\",\"when\",\"get\",\"like\",\"say\",\"will\",\"wanna\",\"know\",\"ll\",\"up\",\"time\",\"let\",\"but\",\"there\",\"want\",\"gonna\",\"down\",\"la\",\"now\",\"they\",\"she\",\"are\",\"was\",\"see\",\"how\",\"everybody\",\"he\",\"tell\",\"one\",\"night\",\"have\",\"ve\",\"would\",\"not\",\"right\",\"girl\",\"make\",\"take\",\"never\",\"ooh\",\"here\",\"could\",\"who\",\"only\",\"stop\",\"ain\",\"body\",\"about\",\"dance\",\"out\",\"party\",\"as\",\"life\",\"every\",\"push\",\"think\",\"ever\",\"more\",\"cuz\",\"man\",\"her\",\"then\",\"ya\",\"us\",\"new\",\"world\",\"good\",\"play\",\"over\",\"off\",\"alright\",\"why\",\"said\",\"day\",\"mind\",\"for\",\"where\",\"rock\",\"cry\",\"way\",\"need\",\"little\",\"before\",\"joy\",\"some\",\"around\",\"round\",\"from\",\"gotta\",\"live\",\"long\",\"hey\",\"back\",\"thing\",\"at\",\"or\",\"maybe\",\"music\",\"give\",\"grind\",\"better\",\"yes\",\"still\",\"shake\",\"jack\",\"funky\",\"another\",\"look\",\"beautiful\",\"something\",\"sexy\",\"tonight\",\"than\",\"been\",\"had\",\"heart\",\"god\",\"hot\",\"face\",\"daddy\",\"feel\",\"am\",\"pop\",\"name\",\"talk\",\"much\",\"space\",\"bitch\",\"light\",\"find\",\"until\",\"other\",\"were\",\"somebody\",\"people\",\"kiss\",\"die\",\"ass\",\"try\",\"free\",\"please\",\"stand\",\"da\",\"turn\",\"prince\",\"care\",\"cause\",\"put\",\"going\",\"feeling\",\"our\",\"na\",\"ready\",\"place\",\"really\",\"sex\",\"til\",\"keep\",\"nothing\",\"lover\",\"billy\",\"an\",\"melody\",\"won\",\"things\",\"dark\",\"hear\"],\"x\":[14.64974594116211,-4.396864891052246,31.6475830078125,-17.923965454101562,28.917373657226562,-26.061756134033203,24.670385360717773,-27.882797241210938,8.83950138092041,26.541887283325195,-5.613277912139893,1.8085609674453735,31.499841690063477,19.06299591064453,-4.418088912963867,-6.470445156097412,-15.871283531188965,-2.9598960876464844,-30.263912200927734,13.425065994262695,-34.17146682739258,4.43239164352417,-4.116515159606934,-22.425682067871094,14.454766273498535,16.462804794311523,-28.850183486938477,-5.534289836883545,-41.095272064208984,-21.704105377197266,-2.052896738052368,-22.393083572387695,-35.33311462402344,-19.534074783325195,-2.222567081451416,24.844959259033203,-27.4635009765625,-3.6249349117279053,-4.0601654052734375,-22.75364875793457,-27.336265563964844,-1.2965505123138428,23.305805206298828,-2.065065622329712,-6.987595081329346,-17.190324783325195,-20.29994773864746,-16.22925567626953,-11.590673446655273,20.02132797241211,14.520430564880371,1.4948590993881226,-20.048505783081055,-11.179743766784668,-2.7986900806427,-17.230670928955078,22.765361785888672,-11.646523475646973,41.31431579589844,-8.971895217895508,-29.373882293701172,4.221678256988525,-11.485942840576172,-27.658246994018555,-28.796443939208984,-0.20668652653694153,-38.21108627319336,24.615785598754883,4.389306545257568,0.024739205837249756,-5.79986047744751,-19.13791275024414,-12.781514167785645,2.8221194744110107,-35.517696380615234,-36.44706726074219,0.8877824544906616,-37.38180160522461,-19.064306259155273,6.22137975692749,-22.792556762695312,-12.869000434875488,14.759251594543457,-13.74638557434082,-26.730897903442383,-4.30496072769165,11.312918663024902,15.073687553405762,-29.442419052124023,-27.266357421875,-31.994403839111328,-15.333531379699707,-7.5604777336120605,-6.101121425628662,-1.4200078248977661,-23.176849365234375,24.642820358276367,38.13037872314453,15.57607650756836,-35.193599700927734,3.4837067127227783,18.399547576904297,7.526754379272461,-9.522940635681152,-32.1953125,12.184021949768066,6.430784225463867,3.7254574298858643,-10.037092208862305,-30.40239143371582,35.039058685302734,-38.099342346191406,-12.49322509765625,-21.42412567138672,-0.7395923137664795,-24.055191040039062,3.0910849571228027,0.40428221225738525,33.1973876953125,28.378742218017578,1.1133476495742798,3.199469804763794,-5.370368957519531,-19.86360740661621,3.3555328845977783,6.062582969665527,-3.440605640411377,15.412772178649902,27.286357879638672,-13.202559471130371,34.10099411010742,0.13703444600105286,4.132842540740967,-24.830190658569336,-12.495650291442871,40.19365692138672,13.353401184082031,-33.56334686279297,17.269580841064453,-20.648332595825195,11.05081844329834,-15.663572311401367,-32.279136657714844,-44.051513671875,-1.2385092973709106,-26.79199981689453,-24.524858474731445,-20.46504020690918,17.760093688964844,32.07308578491211,0.8728811740875244,27.919740676879883,-7.2869086265563965,-34.597618103027344,4.90786075592041,-7.622714996337891,-4.762825012207031,-24.19588279724121,-26.169605255126953,29.39277458190918,-35.766319274902344,17.078994750976562,38.94377899169922,15.072537422180176,18.701244354248047,-9.425657272338867,-15.209853172302246,-9.031734466552734,-13.684784889221191,-7.4904985427856445,-42.07270050048828,-24.7203369140625,5.021773338317871,-25.69002342224121,31.392940521240234,19.775592803955078,11.781109809875488,-6.741447925567627,-33.32564163208008,-22.063798904418945,-19.057546615600586,24.797548294067383,-39.07111358642578,27.268016815185547,19.623350143432617,-1.5994645357131958,7.414276123046875,-27.972604751586914,34.69126510620117,8.943297386169434,34.646263122558594,-11.611120223999023,4.338645935058594,-34.45201873779297,23.520259857177734,-17.37130355834961,-17.04125213623047,-10.82925033569336,-6.8951897621154785,-15.675586700439453],\"y\":[-7.787132263183594,27.418764114379883,-5.856251239776611,25.13779640197754,-17.34284782409668,7.252073764801025,0.02796645276248455,1.8080811500549316,-35.424049377441406,-24.493213653564453,-37.81047821044922,-17.113595962524414,-10.51674747467041,10.984770774841309,28.34437370300293,15.860023498535156,13.803169250488281,-19.629852294921875,13.58497428894043,-32.29264450073242,-7.893601417541504,10.536956787109375,-27.127836227416992,-8.845678329467773,11.606887817382812,36.153011322021484,2.6687865257263184,18.047876358032227,-11.61120891571045,-9.166847229003906,-40.739707946777344,13.136333465576172,-2.022686243057251,-14.058465003967285,-5.830923080444336,14.40900707244873,-4.198437690734863,21.426490783691406,35.372833251953125,24.021141052246094,-6.460331916809082,21.6439266204834,21.39916229248047,-30.490779876708984,24.037601470947266,17.64533042907715,-21.286067962646484,10.710039138793945,15.702033996582031,27.898134231567383,13.139896392822266,28.67764663696289,-12.682760238647461,-10.711076736450195,3.9593167304992676,-28.81967544555664,-7.366856098175049,-12.978241920471191,2.6127936840057373,-7.644899845123291,7.223515510559082,-31.171279907226562,19.7957706451416,-12.174768447875977,1.0137474536895752,27.208925247192383,-10.864742279052734,16.318559646606445,-1.5635647773742676,-0.058647993952035904,31.160337448120117,-4.280480861663818,27.65134048461914,19.050704956054688,-5.226376056671143,16.20633888244629,-30.528867721557617,11.444795608520508,-8.073345184326172,-25.761289596557617,6.357428073883057,34.88591003417969,9.018415451049805,10.889678955078125,-34.44468307495117,-23.55509376525879,-31.962400436401367,31.638275146484375,-2.2319259643554688,0.17130059003829956,-24.85066795349121,6.726561546325684,-28.28337860107422,-7.55946683883667,24.869823455810547,29.877504348754883,5.9214982986450195,17.98064613342285,-20.54762840270996,23.5425968170166,-37.49748611450195,7.344328880310059,19.646747589111328,28.50482940673828,1.8260856866836548,-19.749313354492188,-26.89783477783203,15.271493911743164,-35.545658111572266,10.496801376342773,-3.0605947971343994,-21.549468994140625,-27.054340362548828,13.254870414733887,-5.240232467651367,-17.754087448120117,-16.45537567138672,-24.765392303466797,9.59555721282959,13.463494300842285,-4.594256401062012,35.8096923828125,-41.58184051513672,-28.484413146972656,27.81414031982422,20.452442169189453,-31.31655502319336,-32.88772964477539,-15.840784072875977,-17.9952449798584,-16.755882263183594,3.667802572250366,41.48204040527344,-18.474292755126953,16.35715675354004,0.9637206792831421,33.85845184326172,13.214261054992676,15.202278137207031,37.659202575683594,-32.055362701416016,21.02861785888672,2.424346685409546,6.242643356323242,-1.3346259593963623,-29.06877899169922,-4.3378496170043945,-1.6059393882751465,-20.208690643310547,-19.213850021362305,-33.70297622680664,-14.41372013092041,4.153488636016846,15.530107498168945,6.063577651977539,6.707906723022461,-14.240918159484863,6.604334831237793,-27.31278419494629,-5.877278804779053,9.064032554626465,-0.8479315638542175,-4.341153144836426,-2.4804649353027344,-27.65863037109375,-24.62679100036621,28.711265563964844,28.420278549194336,27.426342010498047,-19.394058227539062,14.203356742858887,12.79712963104248,7.571810722351074,33.317138671875,24.277244567871094,22.51375389099121,12.525092124938965,-12.916991233825684,-7.644680500030518,-3.2596094608306885,35.76286315917969,20.22681427001953,6.854503631591797,-27.417295455932617,14.451505661010742,12.697427749633789,-7.299299240112305,7.276555061340332,-20.87158203125,2.3093161582946777,1.2830345630645752,-11.221648216247559,8.664016723632812,11.24850845336914,-2.0373690128326416,-38.195762634277344,9.811846733093262,0.03146878257393837,-37.342613220214844,17.164037704467773],\"z\":[-10.146626472473145,6.124547004699707,13.212777137756348,-5.7590436935424805,7.57594633102417,11.3535737991333,-32.250083923339844,-5.055759429931641,-16.588512420654297,4.635501861572266,1.0825270414352417,24.598648071289062,-21.7122802734375,-23.197660446166992,26.99164581298828,11.07430648803711,-28.470800399780273,19.8143253326416,-14.18613338470459,2.5803728103637695,13.52371597290039,-16.070478439331055,-13.734875679016113,-8.500968933105469,-38.41835403442383,-10.068687438964844,15.486839294433594,22.664339065551758,-4.223013401031494,29.476470947265625,-11.417893409729004,10.097797393798828,-26.28951072692871,9.496185302734375,-29.666471481323242,7.956611633300781,11.180142402648926,14.056680679321289,6.654572486877441,11.973600387573242,0.6886575818061829,-26.233661651611328,4.843179225921631,-29.65738296508789,-14.971471786499023,9.861021995544434,9.578393936157227,5.717931270599365,-20.340166091918945,-13.743833541870117,34.999385833740234,12.365419387817383,-4.593445777893066,-28.578866958618164,31.717403411865234,2.3364152908325195,-27.118907928466797,-40.711273193359375,3.3448407649993896,-26.925630569458008,25.029821395874023,-2.3709487915039062,-31.58281898498535,-12.202239036560059,-31.32622528076172,-20.439390182495117,4.848206043243408,-4.941557884216309,-32.173763275146484,-38.30531692504883,-15.424603462219238,-19.94346809387207,15.053738594055176,17.306642532348633,-12.721577644348145,-4.684584617614746,3.9015071392059326,-12.514063835144043,18.98861312866211,21.69654083251953,22.787540435791016,-19.56879425048828,-7.400957107543945,36.64070129394531,12.677756309509277,27.164939880371094,-5.581883907318115,4.3033294677734375,19.016029357910156,-22.684633255004883,-4.11334228515625,-5.898581504821777,-0.9687044620513916,-35.577354431152344,-34.77192687988281,-14.086204528808594,-19.540573120117188,4.145358562469482,-14.964371681213379,-11.016519546508789,26.1202449798584,2.304509401321411,-28.31093978881836,-27.520471572875977,-15.77011775970459,-30.711008071899414,-9.296358108520508,-33.8204460144043,-8.729232788085938,17.911592483520508,23.751937866210938,-9.627181053161621,-9.794198989868164,2.781322956085205,23.532556533813477,-30.970365524291992,38.160640716552734,-20.115652084350586,-18.90692901611328,-21.22209358215332,-23.3183650970459,-7.503060340881348,7.66838264465332,16.002334594726562,31.117351531982422,-15.865269660949707,10.942122459411621,-16.77596092224121,-21.100345611572266,-22.535934448242188,-6.816177845001221,-25.56627655029297,8.219765663146973,-3.758984327316284,27.60472297668457,-9.2352933883667,12.786551475524902,-26.100391387939453,20.13385772705078,6.196882724761963,-22.249547958374023,-25.763465881347656,8.98602294921875,1.1791608333587646,40.54194259643555,-1.9734220504760742,-31.27232551574707,-26.20195198059082,15.603514671325684,20.341106414794922,16.512331008911133,-8.439310073852539,25.347673416137695,12.379406929016113,36.75165557861328,24.470142364501953,23.14307403564453,-3.4322986602783203,-14.955224990844727,-12.541987419128418,-24.394378662109375,-25.108118057250977,7.642940998077393,-15.360674858093262,-7.766637325286865,11.813863754272461,1.0905414819717407,-0.504603385925293,-12.52574348449707,-30.190601348876953,4.620599269866943,-28.097328186035156,-36.75774002075195,3.8466684818267822,5.942935943603516,-10.103094100952148,-16.320940017700195,25.734569549560547,21.104171752929688,-8.669700622558594,-9.650992393493652,-14.47256088256836,-12.85489559173584,1.763167381286621,28.824031829833984,22.996137619018555,33.50679016113281,-20.528654098510742,-6.129640102386475,-22.244773864746094,-11.882987022399902,3.8753256797790527,27.145244598388672,-23.088869094848633,13.574005126953125,-1.9076817035675049,13.300743103027344,-36.4396858215332,17.622053146362305,2.669761896133423],\"type\":\"scatter3d\"}],                        {\"template\":{\"data\":{\"histogram2dcontour\":[{\"type\":\"histogram2dcontour\",\"colorbar\":{\"outlinewidth\":0,\"ticks\":\"\"},\"colorscale\":[[0.0,\"#0d0887\"],[0.1111111111111111,\"#46039f\"],[0.2222222222222222,\"#7201a8\"],[0.3333333333333333,\"#9c179e\"],[0.4444444444444444,\"#bd3786\"],[0.5555555555555556,\"#d8576b\"],[0.6666666666666666,\"#ed7953\"],[0.7777777777777778,\"#fb9f3a\"],[0.8888888888888888,\"#fdca26\"],[1.0,\"#f0f921\"]]}],\"choropleth\":[{\"type\":\"choropleth\",\"colorbar\":{\"outlinewidth\":0,\"ticks\":\"\"}}],\"histogram2d\":[{\"type\":\"histogram2d\",\"colorbar\":{\"outlinewidth\":0,\"ticks\":\"\"},\"colorscale\":[[0.0,\"#0d0887\"],[0.1111111111111111,\"#46039f\"],[0.2222222222222222,\"#7201a8\"],[0.3333333333333333,\"#9c179e\"],[0.4444444444444444,\"#bd3786\"],[0.5555555555555556,\"#d8576b\"],[0.6666666666666666,\"#ed7953\"],[0.7777777777777778,\"#fb9f3a\"],[0.8888888888888888,\"#fdca26\"],[1.0,\"#f0f921\"]]}],\"heatmap\":[{\"type\":\"heatmap\",\"colorbar\":{\"outlinewidth\":0,\"ticks\":\"\"},\"colorscale\":[[0.0,\"#0d0887\"],[0.1111111111111111,\"#46039f\"],[0.2222222222222222,\"#7201a8\"],[0.3333333333333333,\"#9c179e\"],[0.4444444444444444,\"#bd3786\"],[0.5555555555555556,\"#d8576b\"],[0.6666666666666666,\"#ed7953\"],[0.7777777777777778,\"#fb9f3a\"],[0.8888888888888888,\"#fdca26\"],[1.0,\"#f0f921\"]]}],\"heatmapgl\":[{\"type\":\"heatmapgl\",\"colorbar\":{\"outlinewidth\":0,\"ticks\":\"\"},\"colorscale\":[[0.0,\"#0d0887\"],[0.1111111111111111,\"#46039f\"],[0.2222222222222222,\"#7201a8\"],[0.3333333333333333,\"#9c179e\"],[0.4444444444444444,\"#bd3786\"],[0.5555555555555556,\"#d8576b\"],[0.6666666666666666,\"#ed7953\"],[0.7777777777777778,\"#fb9f3a\"],[0.8888888888888888,\"#fdca26\"],[1.0,\"#f0f921\"]]}],\"contourcarpet\":[{\"type\":\"contourcarpet\",\"colorbar\":{\"outlinewidth\":0,\"ticks\":\"\"}}],\"contour\":[{\"type\":\"contour\",\"colorbar\":{\"outlinewidth\":0,\"ticks\":\"\"},\"colorscale\":[[0.0,\"#0d0887\"],[0.1111111111111111,\"#46039f\"],[0.2222222222222222,\"#7201a8\"],[0.3333333333333333,\"#9c179e\"],[0.4444444444444444,\"#bd3786\"],[0.5555555555555556,\"#d8576b\"],[0.6666666666666666,\"#ed7953\"],[0.7777777777777778,\"#fb9f3a\"],[0.8888888888888888,\"#fdca26\"],[1.0,\"#f0f921\"]]}],\"surface\":[{\"type\":\"surface\",\"colorbar\":{\"outlinewidth\":0,\"ticks\":\"\"},\"colorscale\":[[0.0,\"#0d0887\"],[0.1111111111111111,\"#46039f\"],[0.2222222222222222,\"#7201a8\"],[0.3333333333333333,\"#9c179e\"],[0.4444444444444444,\"#bd3786\"],[0.5555555555555556,\"#d8576b\"],[0.6666666666666666,\"#ed7953\"],[0.7777777777777778,\"#fb9f3a\"],[0.8888888888888888,\"#fdca26\"],[1.0,\"#f0f921\"]]}],\"mesh3d\":[{\"type\":\"mesh3d\",\"colorbar\":{\"outlinewidth\":0,\"ticks\":\"\"}}],\"scatter\":[{\"fillpattern\":{\"fillmode\":\"overlay\",\"size\":10,\"solidity\":0.2},\"type\":\"scatter\"}],\"parcoords\":[{\"type\":\"parcoords\",\"line\":{\"colorbar\":{\"outlinewidth\":0,\"ticks\":\"\"}}}],\"scatterpolargl\":[{\"type\":\"scatterpolargl\",\"marker\":{\"colorbar\":{\"outlinewidth\":0,\"ticks\":\"\"}}}],\"bar\":[{\"error_x\":{\"color\":\"#2a3f5f\"},\"error_y\":{\"color\":\"#2a3f5f\"},\"marker\":{\"line\":{\"color\":\"#E5ECF6\",\"width\":0.5},\"pattern\":{\"fillmode\":\"overlay\",\"size\":10,\"solidity\":0.2}},\"type\":\"bar\"}],\"scattergeo\":[{\"type\":\"scattergeo\",\"marker\":{\"colorbar\":{\"outlinewidth\":0,\"ticks\":\"\"}}}],\"scatterpolar\":[{\"type\":\"scatterpolar\",\"marker\":{\"colorbar\":{\"outlinewidth\":0,\"ticks\":\"\"}}}],\"histogram\":[{\"marker\":{\"pattern\":{\"fillmode\":\"overlay\",\"size\":10,\"solidity\":0.2}},\"type\":\"histogram\"}],\"scattergl\":[{\"type\":\"scattergl\",\"marker\":{\"colorbar\":{\"outlinewidth\":0,\"ticks\":\"\"}}}],\"scatter3d\":[{\"type\":\"scatter3d\",\"line\":{\"colorbar\":{\"outlinewidth\":0,\"ticks\":\"\"}},\"marker\":{\"colorbar\":{\"outlinewidth\":0,\"ticks\":\"\"}}}],\"scattermapbox\":[{\"type\":\"scattermapbox\",\"marker\":{\"colorbar\":{\"outlinewidth\":0,\"ticks\":\"\"}}}],\"scatterternary\":[{\"type\":\"scatterternary\",\"marker\":{\"colorbar\":{\"outlinewidth\":0,\"ticks\":\"\"}}}],\"scattercarpet\":[{\"type\":\"scattercarpet\",\"marker\":{\"colorbar\":{\"outlinewidth\":0,\"ticks\":\"\"}}}],\"carpet\":[{\"aaxis\":{\"endlinecolor\":\"#2a3f5f\",\"gridcolor\":\"white\",\"linecolor\":\"white\",\"minorgridcolor\":\"white\",\"startlinecolor\":\"#2a3f5f\"},\"baxis\":{\"endlinecolor\":\"#2a3f5f\",\"gridcolor\":\"white\",\"linecolor\":\"white\",\"minorgridcolor\":\"white\",\"startlinecolor\":\"#2a3f5f\"},\"type\":\"carpet\"}],\"table\":[{\"cells\":{\"fill\":{\"color\":\"#EBF0F8\"},\"line\":{\"color\":\"white\"}},\"header\":{\"fill\":{\"color\":\"#C8D4E3\"},\"line\":{\"color\":\"white\"}},\"type\":\"table\"}],\"barpolar\":[{\"marker\":{\"line\":{\"color\":\"#E5ECF6\",\"width\":0.5},\"pattern\":{\"fillmode\":\"overlay\",\"size\":10,\"solidity\":0.2}},\"type\":\"barpolar\"}],\"pie\":[{\"automargin\":true,\"type\":\"pie\"}]},\"layout\":{\"autotypenumbers\":\"strict\",\"colorway\":[\"#636efa\",\"#EF553B\",\"#00cc96\",\"#ab63fa\",\"#FFA15A\",\"#19d3f3\",\"#FF6692\",\"#B6E880\",\"#FF97FF\",\"#FECB52\"],\"font\":{\"color\":\"#2a3f5f\"},\"hovermode\":\"closest\",\"hoverlabel\":{\"align\":\"left\"},\"paper_bgcolor\":\"white\",\"plot_bgcolor\":\"#E5ECF6\",\"polar\":{\"bgcolor\":\"#E5ECF6\",\"angularaxis\":{\"gridcolor\":\"white\",\"linecolor\":\"white\",\"ticks\":\"\"},\"radialaxis\":{\"gridcolor\":\"white\",\"linecolor\":\"white\",\"ticks\":\"\"}},\"ternary\":{\"bgcolor\":\"#E5ECF6\",\"aaxis\":{\"gridcolor\":\"white\",\"linecolor\":\"white\",\"ticks\":\"\"},\"baxis\":{\"gridcolor\":\"white\",\"linecolor\":\"white\",\"ticks\":\"\"},\"caxis\":{\"gridcolor\":\"white\",\"linecolor\":\"white\",\"ticks\":\"\"}},\"coloraxis\":{\"colorbar\":{\"outlinewidth\":0,\"ticks\":\"\"}},\"colorscale\":{\"sequential\":[[0.0,\"#0d0887\"],[0.1111111111111111,\"#46039f\"],[0.2222222222222222,\"#7201a8\"],[0.3333333333333333,\"#9c179e\"],[0.4444444444444444,\"#bd3786\"],[0.5555555555555556,\"#d8576b\"],[0.6666666666666666,\"#ed7953\"],[0.7777777777777778,\"#fb9f3a\"],[0.8888888888888888,\"#fdca26\"],[1.0,\"#f0f921\"]],\"sequentialminus\":[[0.0,\"#0d0887\"],[0.1111111111111111,\"#46039f\"],[0.2222222222222222,\"#7201a8\"],[0.3333333333333333,\"#9c179e\"],[0.4444444444444444,\"#bd3786\"],[0.5555555555555556,\"#d8576b\"],[0.6666666666666666,\"#ed7953\"],[0.7777777777777778,\"#fb9f3a\"],[0.8888888888888888,\"#fdca26\"],[1.0,\"#f0f921\"]],\"diverging\":[[0,\"#8e0152\"],[0.1,\"#c51b7d\"],[0.2,\"#de77ae\"],[0.3,\"#f1b6da\"],[0.4,\"#fde0ef\"],[0.5,\"#f7f7f7\"],[0.6,\"#e6f5d0\"],[0.7,\"#b8e186\"],[0.8,\"#7fbc41\"],[0.9,\"#4d9221\"],[1,\"#276419\"]]},\"xaxis\":{\"gridcolor\":\"white\",\"linecolor\":\"white\",\"ticks\":\"\",\"title\":{\"standoff\":15},\"zerolinecolor\":\"white\",\"automargin\":true,\"zerolinewidth\":2},\"yaxis\":{\"gridcolor\":\"white\",\"linecolor\":\"white\",\"ticks\":\"\",\"title\":{\"standoff\":15},\"zerolinecolor\":\"white\",\"automargin\":true,\"zerolinewidth\":2},\"scene\":{\"xaxis\":{\"backgroundcolor\":\"#E5ECF6\",\"gridcolor\":\"white\",\"linecolor\":\"white\",\"showbackground\":true,\"ticks\":\"\",\"zerolinecolor\":\"white\",\"gridwidth\":2},\"yaxis\":{\"backgroundcolor\":\"#E5ECF6\",\"gridcolor\":\"white\",\"linecolor\":\"white\",\"showbackground\":true,\"ticks\":\"\",\"zerolinecolor\":\"white\",\"gridwidth\":2},\"zaxis\":{\"backgroundcolor\":\"#E5ECF6\",\"gridcolor\":\"white\",\"linecolor\":\"white\",\"showbackground\":true,\"ticks\":\"\",\"zerolinecolor\":\"white\",\"gridwidth\":2}},\"shapedefaults\":{\"line\":{\"color\":\"#2a3f5f\"}},\"annotationdefaults\":{\"arrowcolor\":\"#2a3f5f\",\"arrowhead\":0,\"arrowwidth\":1},\"geo\":{\"bgcolor\":\"white\",\"landcolor\":\"#E5ECF6\",\"subunitcolor\":\"white\",\"showland\":true,\"showlakes\":true,\"lakecolor\":\"white\"},\"title\":{\"x\":0.05},\"mapbox\":{\"style\":\"light\"}}},\"scene\":{\"domain\":{\"x\":[0.0,1.0],\"y\":[0.0,1.0]},\"xaxis\":{\"title\":{\"text\":\"x\"}},\"yaxis\":{\"title\":{\"text\":\"y\"}},\"zaxis\":{\"title\":{\"text\":\"z\"}}},\"legend\":{\"tracegroupgap\":0},\"margin\":{\"t\":60}},                        {\"responsive\": true}                    ).then(function(){\n",
       "                            \n",
       "var gd = document.getElementById('70998c1f-e1fd-48bb-824c-fb446577764f');\n",
       "var x = new MutationObserver(function (mutations, observer) {{\n",
       "        var display = window.getComputedStyle(gd).display;\n",
       "        if (!display || display === 'none') {{\n",
       "            console.log([gd, 'removed!']);\n",
       "            Plotly.purge(gd);\n",
       "            observer.disconnect();\n",
       "        }}\n",
       "}});\n",
       "\n",
       "// Listen for the removal of the full notebook cells\n",
       "var notebookContainer = gd.closest('#notebook-container');\n",
       "if (notebookContainer) {{\n",
       "    x.observe(notebookContainer, {childList: true});\n",
       "}}\n",
       "\n",
       "// Listen for the clearing of the current output cell\n",
       "var outputEl = gd.closest('.output');\n",
       "if (outputEl) {{\n",
       "    x.observe(outputEl, {childList: true});\n",
       "}}\n",
       "\n",
       "                        })                };                            </script>        </div>\n",
       "</body>\n",
       "</html>"
      ]
     },
     "metadata": {},
     "output_type": "display_data"
    }
   ],
   "source": [
    "# Graficar los embedddings en 3D\n",
    "\n",
    "vecs, labels = reduce_dimensions(w2v_model,3)\n",
    "\n",
    "fig = px.scatter_3d(x=vecs[:MAX_WORDS,0], y=vecs[:MAX_WORDS,1], z=vecs[:MAX_WORDS,2],text=labels[:MAX_WORDS])\n",
    "fig.update_traces(marker_size = 2)\n",
    "fig.show(renderer=\"colab\") # esto para plotly en colab"
   ]
  },
  {
   "cell_type": "markdown",
   "metadata": {},
   "source": [
    "Los gráficos muestran la representación bidimensional y tridimensional de las palabras más frecuentes del corpus, obtenida mediante la reducción de dimensionalidad . Cada punto representa una palabra, y su posición refleja la relación semántica con las demás dentro del espacio vectorial aprendido.\n",
    "\n",
    "Agrupamientos semánticos claros:\n",
    "Se observan clusters de palabras que comparten un mismo campo temático. Por ejemplo: términos como “around”-“round”-“space”-“back”-“here” conforman un grupo asociado a descripciónes espaciales o \"yes\"-\"yeah\"-\"ooh\"-\"oh\"-\"hey\" conforman un conjuntos de expresiones o palabras de énfasis.\n",
    "\n",
    "Estos tipos de agrupamiento evidencia que el modelo logró capturar contextos de coocurrencia coherentes con el dominio temático del corpus.\n",
    "\n",
    "\n",
    "Conclusión general\n",
    "\n",
    "El gráfico confirma que el modelo Word2Vec entrenado sobre las letras de Prince aprendió representaciones semánticas consistentes, agrupando palabras según su afinidad contextual y temática. Los embeddings logran identificar patrones latentes de significado."
   ]
  }
 ],
 "metadata": {
  "colab": {
   "collapsed_sections": [],
   "provenance": []
  },
  "kernelspec": {
   "display_name": "Python 3 (ipykernel)",
   "language": "python",
   "name": "python3"
  },
  "language_info": {
   "codemirror_mode": {
    "name": "ipython",
    "version": 3
   },
   "file_extension": ".py",
   "mimetype": "text/x-python",
   "name": "python",
   "nbconvert_exporter": "python",
   "pygments_lexer": "ipython3",
   "version": "3.12.4"
  }
 },
 "nbformat": 4,
 "nbformat_minor": 4
}
